{
 "cells": [
  {
   "cell_type": "markdown",
   "metadata": {},
   "source": [
    "# Here's Some Python Basics"
   ]
  },
  {
   "cell_type": "markdown",
   "metadata": {},
   "source": [
    "### Python is a high level language"
   ]
  },
  {
   "cell_type": "code",
   "execution_count": 7,
   "metadata": {},
   "outputs": [
    {
     "name": "stdout",
     "output_type": "stream",
     "text": [
      "1\n",
      "[1, 2, 3]\n"
     ]
    }
   ],
   "source": [
    "a = 1 #this is an integer\n",
    "b = [1,2,3] #this is a list\n",
    "print(a)\n",
    "print(b)"
   ]
  },
  {
   "cell_type": "markdown",
   "metadata": {},
   "source": [
    "### Jupyter is a cell-level programming editor"
   ]
  },
  {
   "cell_type": "code",
   "execution_count": 8,
   "metadata": {},
   "outputs": [
    {
     "data": {
      "image/jpeg": "[encoded data removed]",
      "text/html": [
       "\n",
       "        <iframe\n",
       "            width=\"400\"\n",
       "            height=\"300\"\n",
       "            src=\"https://www.youtube.com/embed/eJDxcR1V7Qg\"\n",
       "            frameborder=\"0\"\n",
       "            allowfullscreen\n",
       "        ></iframe>\n",
       "        "
      ],
      "text/plain": [
       "<IPython.lib.display.YouTubeVideo at 0x7f79dc489c90>"
      ]
     },
     "execution_count": 8,
     "metadata": {},
     "output_type": "execute_result"
    }
   ],
   "source": [
    "from IPython.lib.display import YouTubeVideo\n",
    "YouTubeVideo('eJDxcR1V7Qg')"
   ]
  },
  {
   "cell_type": "markdown",
   "metadata": {},
   "source": [
    "### It has syntax and style for writing code"
   ]
  },
  {
   "cell_type": "code",
   "execution_count": 12,
   "metadata": {},
   "outputs": [
    {
     "name": "stdout",
     "output_type": "stream",
     "text": [
      "2\n",
      "[1, 1, 1, 1]\n",
      "3\n",
      "[1, 1, 1]\n"
     ]
    }
   ],
   "source": [
    "print(1+1) #this adds two integers\n",
    "print([1]+[1]+[1]+[1]) #this combines two lists\n",
    "print(1*3) #this multiplies two integers\n",
    "print([1]*3) #This duplicates a list"
   ]
  },
  {
   "cell_type": "markdown",
   "metadata": {},
   "source": [
    "### Many commands are familiar"
   ]
  },
  {
   "cell_type": "code",
   "execution_count": 16,
   "metadata": {},
   "outputs": [
    {
     "name": "stdout",
     "output_type": "stream",
     "text": [
      "True\n",
      "1\n",
      "2\n",
      "3\n"
     ]
    }
   ],
   "source": [
    "if 1 == 1:\n",
    "    print('True')\n",
    "elif 1 == 2: print('nope')\n",
    "for x in [1,2,3]: print(x)"
   ]
  },
  {
   "cell_type": "markdown",
   "metadata": {},
   "source": [
    "### And there are some useful tricks"
   ]
  },
  {
   "cell_type": "code",
   "execution_count": 29,
   "metadata": {},
   "outputs": [
    {
     "name": "stdout",
     "output_type": "stream",
     "text": [
      "[1, 4, 9, 16, 25]\n",
      "1\n",
      "25\n",
      "[4, 9, 16]\n",
      "[1, 16]\n",
      "a\n",
      "b\n",
      "c\n",
      "[1, 4, 16, 25]\n"
     ]
    }
   ],
   "source": [
    "#Normal for loop\n",
    "a = []\n",
    "for x in [1,2,3,4,5]:\n",
    "    a += [x**2]\n",
    "print(a)\n",
    "print(a[0]) #print first entry of a\n",
    "print(a[-1]) #prints last entry in a\n",
    "print(a[1:4]) #prints first 2 entries in a\n",
    "print(a[::3]) #prints every 2nd entry in a\n",
    "\n",
    "for x in ['a','b','c']:\n",
    "    print(x)\n",
    "\n",
    "#List comprehension\n",
    "a = [x**2 for x in [1,2,3,4,5] if x!=3] #for loop and if statement wrapped into one\n",
    "print(a)"
   ]
  },
  {
   "cell_type": "markdown",
   "metadata": {},
   "source": [
    "### There are many resources to get familiarized"
   ]
  },
  {
   "cell_type": "code",
   "execution_count": 31,
   "metadata": {},
   "outputs": [
    {
     "data": {
      "image/jpeg": "[encoded data removed]",
      "text/html": [
       "\n",
       "        <iframe\n",
       "            width=\"400\"\n",
       "            height=\"300\"\n",
       "            src=\"https://www.youtube.com/embed/hKA7Wsx_354\"\n",
       "            frameborder=\"0\"\n",
       "            allowfullscreen\n",
       "        ></iframe>\n",
       "        "
      ],
      "text/plain": [
       "<IPython.lib.display.YouTubeVideo at 0x7f79dc487a90>"
      ]
     },
     "execution_count": 31,
     "metadata": {},
     "output_type": "execute_result"
    }
   ],
   "source": [
    "from IPython.lib.display import YouTubeVideo\n",
    "YouTubeVideo('hKA7Wsx_354')"
   ]
  },
  {
   "cell_type": "markdown",
   "metadata": {},
   "source": [
    "# DATA ANALYSIS DEMO"
   ]
  },
  {
   "cell_type": "markdown",
   "metadata": {},
   "source": [
    "## Import Libraries"
   ]
  },
  {
   "cell_type": "code",
   "execution_count": 32,
   "metadata": {},
   "outputs": [],
   "source": [
    "import pandas as pd\n",
    "from os import listdir"
   ]
  },
  {
   "cell_type": "markdown",
   "metadata": {},
   "source": [
    "## Define Files"
   ]
  },
  {
   "cell_type": "code",
   "execution_count": 33,
   "metadata": {},
   "outputs": [
    {
     "name": "stdout",
     "output_type": "stream",
     "text": [
      "['Raw_Data1.csv', 'Raw_Data2.csv']\n",
      "{'Raw_Data1.csv': [], 'Raw_Data2.csv': []}\n"
     ]
    }
   ],
   "source": [
    "cwd = '/home/jovyan/Data Analysis/'\n",
    "Files = [x for x in listdir(cwd) if '.csv' in x]\n",
    "Data = {x:[] for x in Files}\n",
    "print(Files)\n",
    "print(Data)"
   ]
  },
  {
   "cell_type": "markdown",
   "metadata": {},
   "source": [
    "## Load Data"
   ]
  },
  {
   "cell_type": "code",
   "execution_count": 40,
   "metadata": {},
   "outputs": [
    {
     "data": {
      "text/html": [
       "<div>\n",
       "<style scoped>\n",
       "    .dataframe tbody tr th:only-of-type {\n",
       "        vertical-align: middle;\n",
       "    }\n",
       "\n",
       "    .dataframe tbody tr th {\n",
       "        vertical-align: top;\n",
       "    }\n",
       "\n",
       "    .dataframe thead th {\n",
       "        text-align: right;\n",
       "    }\n",
       "</style>\n",
       "<table border=\"1\" class=\"dataframe\">\n",
       "  <thead>\n",
       "    <tr style=\"text-align: right;\">\n",
       "      <th></th>\n",
       "      <th>0</th>\n",
       "      <th>1</th>\n",
       "      <th>2</th>\n",
       "    </tr>\n",
       "  </thead>\n",
       "  <tbody>\n",
       "    <tr>\n",
       "      <th>0</th>\n",
       "      <td>38.62</td>\n",
       "      <td>0.0000</td>\n",
       "      <td>0.093235</td>\n",
       "    </tr>\n",
       "    <tr>\n",
       "      <th>1</th>\n",
       "      <td>38.63</td>\n",
       "      <td>-18.5780</td>\n",
       "      <td>0.094939</td>\n",
       "    </tr>\n",
       "    <tr>\n",
       "      <th>2</th>\n",
       "      <td>38.64</td>\n",
       "      <td>-1.8142</td>\n",
       "      <td>0.093674</td>\n",
       "    </tr>\n",
       "    <tr>\n",
       "      <th>3</th>\n",
       "      <td>38.65</td>\n",
       "      <td>-11.3210</td>\n",
       "      <td>0.094641</td>\n",
       "    </tr>\n",
       "    <tr>\n",
       "      <th>4</th>\n",
       "      <td>38.66</td>\n",
       "      <td>-3.1931</td>\n",
       "      <td>0.094090</td>\n",
       "    </tr>\n",
       "  </tbody>\n",
       "</table>\n",
       "</div>"
      ],
      "text/plain": [
       "       0        1         2\n",
       "0  38.62   0.0000  0.093235\n",
       "1  38.63 -18.5780  0.094939\n",
       "2  38.64  -1.8142  0.093674\n",
       "3  38.65 -11.3210  0.094641\n",
       "4  38.66  -3.1931  0.094090"
      ]
     },
     "execution_count": 40,
     "metadata": {},
     "output_type": "execute_result"
    }
   ],
   "source": [
    "for File in Files:\n",
    "    Data[File] = pd.read_csv(cwd+File, header=None)\n",
    "Data[Files[0]].head()\n",
    "#print(Data)"
   ]
  },
  {
   "cell_type": "markdown",
   "metadata": {},
   "source": [
    "## Process Data"
   ]
  },
  {
   "cell_type": "code",
   "execution_count": 45,
   "metadata": {},
   "outputs": [
    {
     "data": {
      "text/html": [
       "<div>\n",
       "<style scoped>\n",
       "    .dataframe tbody tr th:only-of-type {\n",
       "        vertical-align: middle;\n",
       "    }\n",
       "\n",
       "    .dataframe tbody tr th {\n",
       "        vertical-align: top;\n",
       "    }\n",
       "\n",
       "    .dataframe thead th {\n",
       "        text-align: right;\n",
       "    }\n",
       "</style>\n",
       "<table border=\"1\" class=\"dataframe\">\n",
       "  <thead>\n",
       "    <tr style=\"text-align: right;\">\n",
       "      <th></th>\n",
       "      <th>0</th>\n",
       "      <th>1</th>\n",
       "      <th>2</th>\n",
       "      <th>Strain</th>\n",
       "      <th>Stress</th>\n",
       "    </tr>\n",
       "  </thead>\n",
       "  <tbody>\n",
       "    <tr>\n",
       "      <th>0</th>\n",
       "      <td>38.62</td>\n",
       "      <td>0.0000</td>\n",
       "      <td>0.093235</td>\n",
       "      <td>0.000000</td>\n",
       "      <td>0.093235</td>\n",
       "    </tr>\n",
       "    <tr>\n",
       "      <th>1</th>\n",
       "      <td>38.63</td>\n",
       "      <td>-18.5780</td>\n",
       "      <td>0.094939</td>\n",
       "      <td>-0.000829</td>\n",
       "      <td>0.094939</td>\n",
       "    </tr>\n",
       "    <tr>\n",
       "      <th>2</th>\n",
       "      <td>38.64</td>\n",
       "      <td>-1.8142</td>\n",
       "      <td>0.093674</td>\n",
       "      <td>-0.000081</td>\n",
       "      <td>0.093674</td>\n",
       "    </tr>\n",
       "    <tr>\n",
       "      <th>3</th>\n",
       "      <td>38.65</td>\n",
       "      <td>-11.3210</td>\n",
       "      <td>0.094641</td>\n",
       "      <td>-0.000505</td>\n",
       "      <td>0.094641</td>\n",
       "    </tr>\n",
       "    <tr>\n",
       "      <th>4</th>\n",
       "      <td>38.66</td>\n",
       "      <td>-3.1931</td>\n",
       "      <td>0.094090</td>\n",
       "      <td>-0.000143</td>\n",
       "      <td>0.094090</td>\n",
       "    </tr>\n",
       "  </tbody>\n",
       "</table>\n",
       "</div>"
      ],
      "text/plain": [
       "       0        1         2    Strain    Stress\n",
       "0  38.62   0.0000  0.093235  0.000000  0.093235\n",
       "1  38.63 -18.5780  0.094939 -0.000829  0.094939\n",
       "2  38.64  -1.8142  0.093674 -0.000081  0.093674\n",
       "3  38.65 -11.3210  0.094641 -0.000505  0.094641\n",
       "4  38.66  -3.1931  0.094090 -0.000143  0.094090"
      ]
     },
     "execution_count": 45,
     "metadata": {},
     "output_type": "execute_result"
    }
   ],
   "source": [
    "for File in Files:\n",
    "    Height = 22400 if 'Data1' in File else 54900\n",
    "    Area = 1\n",
    "    Data[File]['Strain'] = Data[File][1]/Height\n",
    "    Data[File]['Stress'] = Data[File][2]/Area\n",
    "Data[Files[0]].head()"
   ]
  },
  {
   "cell_type": "markdown",
   "metadata": {},
   "source": [
    "## Plot Data"
   ]
  },
  {
   "cell_type": "code",
   "execution_count": 52,
   "metadata": {},
   "outputs": [
    {
     "data": {
      "image/png": "[encoded data removed]",
      "text/plain": [
       "<Figure size 640x384 with 1 Axes>"
      ]
     },
     "metadata": {
      "needs_background": "light"
     },
     "output_type": "display_data"
    }
   ],
   "source": [
    "import matplotlib.pyplot as plt\n",
    "fig = plt.figure(1, figsize=(10,6), dpi=64)\n",
    "ax = fig.gca()\n",
    "for File in Files:\n",
    "    ax.plot(Data[File]['Strain'],Data[File]['Stress'],'.-',label=File.replace('.csv',''))\n",
    "    ax.set_xlabel('Strain')\n",
    "    ax.set_ylabel('Stress (MPa)')\n",
    "    ax.legend()\n",
    "    ax.set_xlim(left=0, right=0.1)\n",
    "    ax.set_ylim(bottom=-0.1, top=6.5)"
   ]
  },
  {
   "cell_type": "markdown",
   "metadata": {},
   "source": [
    "## Find Modulus"
   ]
  },
  {
   "cell_type": "code",
   "execution_count": 57,
   "metadata": {},
   "outputs": [
    {
     "name": "stdout",
     "output_type": "stream",
     "text": [
      "Young's modulus: E = 53.36 MPa\n",
      "Young's modulus: E = 131.57 MPa\n"
     ]
    }
   ],
   "source": [
    "import numpy as np\n",
    "eStart = 0.025\n",
    "eStop = 0.04\n",
    "mFit = []\n",
    "mX = [0, 0.07]\n",
    "mY = []\n",
    "for File in Files:\n",
    "    Stress = Data[File]['Stress']\n",
    "    Strain = Data[File]['Strain']\n",
    "    e1 = next(i for i,x in enumerate(Strain) if x>eStart)\n",
    "    e2 = next(i for i,x in enumerate(Strain) if x>eStop)\n",
    "    mStrain = Strain[e1:e2]\n",
    "    mStress = Stress[e1:e2]\n",
    "    mFit += [np.polyfit(mStrain,mStress,1)]\n",
    "    mY += [[x*mFit[-1][0] + mFit[-1][1] for x in mX]]\n",
    "    print(\"Young's modulus: E = \"+str(round(mFit[-1][0],2))+' MPa')"
   ]
  },
  {
   "cell_type": "markdown",
   "metadata": {},
   "source": [
    "## Find Yield Strength"
   ]
  },
  {
   "cell_type": "code",
   "execution_count": 58,
   "metadata": {},
   "outputs": [
    {
     "name": "stdout",
     "output_type": "stream",
     "text": [
      "1.8321\n",
      "4.9042\n"
     ]
    }
   ],
   "source": [
    "eOff = 0.002   #Strain offset for yield strength\n",
    "mXOff = [m+eOff for m in mX]\n",
    "yP = []\n",
    "for i,File in enumerate(Files):\n",
    "    Stress = Data[File]['Stress']\n",
    "    Strain = Data[File]['Strain']\n",
    "    m = mFit[i][0]; b = mFit[i][1]\n",
    "    yP += [next(i for i,(x,y) in enumerate(zip(Stress,Strain)) if x < m*(y-eOff) + b)]\n",
    "    print(Stress[yP[-1]])\n",
    "    "
   ]
  },
  {
   "cell_type": "markdown",
   "metadata": {},
   "source": [
    "## Find Area Under Curve"
   ]
  },
  {
   "cell_type": "code",
   "execution_count": 59,
   "metadata": {},
   "outputs": [
    {
     "name": "stdout",
     "output_type": "stream",
     "text": [
      "Area = 1.19 MPa\n",
      "Area = 2.41 MPa\n"
     ]
    }
   ],
   "source": [
    "from numpy import argmax\n",
    "for File in Files:\n",
    "    Stress = Data[File]['Stress']\n",
    "    Strain = Data[File]['Strain']\n",
    "    eEnd = argmax(Strain)\n",
    "    Area = sum((Strain[i+1]-Strain[i])*(Stress[i+1]+Stress[i])/2 for i in range(eEnd))\n",
    "    print('Area = ' + str(round(Area,2)) + ' MPa')"
   ]
  },
  {
   "cell_type": "markdown",
   "metadata": {},
   "source": [
    "## Plot The Fit"
   ]
  },
  {
   "cell_type": "code",
   "execution_count": 60,
   "metadata": {},
   "outputs": [
    {
     "data": {
      "image/png": "[encoded data removed]",
      "text/plain": [
       "<Figure size 640x384 with 1 Axes>"
      ]
     },
     "metadata": {
      "needs_background": "light"
     },
     "output_type": "display_data"
    }
   ],
   "source": [
    "fig = plt.figure(1, figsize=(10,6), dpi=64)\n",
    "ax = fig.gca()\n",
    "for i,File in enumerate(Files):\n",
    "    ax.plot(Data[File]['Strain'],Data[File]['Stress'],'.-',label=File.replace('.csv',''))    \n",
    "    #ax.plot(mStrain,mStress,'y.')\n",
    "    ax.plot(mX,mY[i],'--',label='Fit '+str(i+1))\n",
    "    ax.plot(mXOff,mY[i],'--')\n",
    "    ax.plot(Data[File]['Strain'][yP[i]],Data[File]['Stress'][yP[i]],'ro',ms=10)\n",
    "    ax.set_xlabel('Strain')\n",
    "    ax.set_ylabel('Stress (MPa)')\n",
    "    ax.legend()\n",
    "    ax.set_xlim(left=0, right=0.2)\n",
    "    ax.set_ylim(bottom=-0.1, top=6.5)"
   ]
  }
 ],
 "metadata": {
  "kernelspec": {
   "display_name": "Python 3",
   "language": "python",
   "name": "python3"
  },
  "language_info": {
   "codemirror_mode": {
    "name": "ipython",
    "version": 3
   },
   "file_extension": ".py",
   "mimetype": "text/x-python",
   "name": "python",
   "nbconvert_exporter": "python",
   "pygments_lexer": "ipython3",
   "version": "3.7.4"
  }
 },
 "nbformat": 4,
 "nbformat_minor": 4
}
