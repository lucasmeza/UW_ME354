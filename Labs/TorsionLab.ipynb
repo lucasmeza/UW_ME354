{
 "cells": [
  {
   "cell_type": "markdown",
   "metadata": {},
   "source": [
    "# Torsion Lab Analysis Code ヽ(^o^)丿"
   ]
  },
  {
   "cell_type": "markdown",
   "metadata": {},
   "source": [
    "## Define Dimension and Material Properties\n",
    "### YOU WILL NEED TO INPUT THESE"
   ]
  },
  {
   "cell_type": "code",
   "execution_count": null,
   "metadata": {},
   "outputs": [],
   "source": [
    "from math import pi\n",
    "\n",
    "#Specimen Dimensions\n",
    "L = []  # Length of Bar [m]\n",
    "R = []  # Radius of the Bar [m]\n",
    "J = pi*R**4/2  #Polar 2nd moment of area [m^4]\n",
    "\n",
    "#Tensile Properties\n",
    "E = []  # Young's Modulus [Pa]\n",
    "nu = [] # Poisson's ratio\n",
    "s_y = [] # Yield Strength [Pa]\n",
    "\n",
    "#Shear Properties\n",
    "G_th = E/2/(1+nu)  # Theoretical Shear Modulus [Pa]\n",
    "tau_y = s_y/(3**0.5)   # Yield Shear Stress [Pa]"
   ]
  },
  {
   "cell_type": "markdown",
   "metadata": {},
   "source": [
    "## Twist/Force Data\n",
    "### YOU WILL NEED TO INPUT ANGLE AND FORCE DATA"
   ]
  },
  {
   "cell_type": "code",
   "execution_count": null,
   "metadata": {},
   "outputs": [],
   "source": [
    "import numpy as np\n",
    "\n",
    "#Raw data from experiments\n",
    "AngleDeg = np.array([]) #angle in degrees\n",
    "ForceKg = np.array([]) #force in kgf\n",
    "Sample = 'Material Type'\n",
    "\n",
    "#Convert angle and calculate torque\n",
    "D = 0.0523\n",
    "Twist = [] #angle in radians\n",
    "Force = [] #force in Newtons\n",
    "Torque = [] #torque on the rod"
   ]
  },
  {
   "cell_type": "markdown",
   "metadata": {},
   "source": [
    "### Plot the Data"
   ]
  },
  {
   "cell_type": "code",
   "execution_count": null,
   "metadata": {},
   "outputs": [],
   "source": [
    "import matplotlib.pyplot as plt #Matlab-esque plotting library\n",
    "\n",
    "#Plot the experimental torque vs twist angle\n",
    "plt.figure(figsize = (6,5))\n",
    "plt.plot(Twist, Torque,'.-',label = Sample)\n",
    "plt.xlabel('Twist Angle (rad) ',fontsize = 16)\n",
    "plt.ylabel('Torque (Nm)',fontsize = 16)\n",
    "plt.title('Torque vs Twist Angle', fontsize = 20)\n",
    "plt.legend();"
   ]
  },
  {
   "cell_type": "markdown",
   "metadata": {},
   "source": [
    "## Useful Analysis Functions"
   ]
  },
  {
   "cell_type": "code",
   "execution_count": null,
   "metadata": {},
   "outputs": [],
   "source": [
    "from scipy.stats import linregress #linear regression function built into Scipy \n",
    "\n",
    "def shearModulusFit(twist,torque,R,L,a,b):\n",
    "    '''This is a linear fit to twist and torque data between the indices a and b. \n",
    "    Note, this will return an error if a or b are outside the length of the data. \n",
    "    R is the rod radius, L is the rod length.\n",
    "    This function is only valid for use in the elastic region of twist.'''\n",
    "    \n",
    "    #Find shear stress and shear strain using elastic relationships\n",
    "    shearStrain = twist[a:b]*R/L\n",
    "    shearStress = 2*torque[a:b]/pi/R**3\n",
    "    \n",
    "    #Fit the modulus\n",
    "    #This gives the slope (G), intercept (C), regression (r), P-value and standard error\n",
    "    G,C,r,P,Err = linregress(shearStrain,shearStress) \n",
    "    #Note: Python lets you save multivariable outputs with a comma, \n",
    "    #e.g. a,b=[1,2] will give a=1 and b=2\n",
    "    \n",
    "    #Make a line for the fit data\n",
    "    Y = [0.0, max(shearStress)] #this is a list of length 2 for plotting the fit later\n",
    "    X = [(y-C)/G for y in Y] #these are inverted from y=G*x+C, x=(y-C)/G\n",
    "    return G,C,r,X,Y\n",
    "\n",
    "def elasticPlasticTorque(twist,tau_y,H,n,G,L,R):\n",
    "    '''This is a theoretical calculation of the torque response for a material with\n",
    "    given material properties after a specified twist. This uses the material shear\n",
    "    yield strength tau_y, hardening modulus H, hardening exponent n, shear modulus G,\n",
    "    and the rod length L and radius R.'''\n",
    "    \n",
    "    #Calculate individual elastic and plastic torque\n",
    "    T_Elastic = []\n",
    "    T_Plastic = []\n",
    "    for t in twist:\n",
    "        ry = tau_y*L/G/t #yield radius\n",
    "\n",
    "        #Elastic Deformation\n",
    "        if ry > R:\n",
    "            T_Elastic += [pi*G*t*R**4/2/L]\n",
    "            T_Plastic += [0]\n",
    "        else:\n",
    "            #Plastic + Elastic Deformation\n",
    "            T_Elastic += [pi*tau_y*ry**3/2]\n",
    "            T_Plastic += [2*pi*H/3**0.5/(n+3)*(t/3**0.5/L)**n*(R**(n+3)-ry**(n+3))]\n",
    "\n",
    "    #Combined elastic/plastic torque\n",
    "    T = [Tel+Tpl for Tel,Tpl in zip(T_Elastic,T_Plastic)]\n",
    "    return T_Elastic, T_Plastic, T"
   ]
  },
  {
   "cell_type": "markdown",
   "metadata": {},
   "source": [
    "## Fit the Shear Modulus\n",
    "### Then compare it with the theoretical shear modulus from the stiffness\n",
    "### YOU WILL NEED TO EDIT THE 'a' AND 'b' VALUES"
   ]
  },
  {
   "cell_type": "code",
   "execution_count": null,
   "metadata": {},
   "outputs": [],
   "source": [
    "#Fit to the loading data\n",
    "a = 0 #Starting point for the fit\n",
    "b = 12 #Ending point for the fit\n",
    "G,C,r,X,Y = shearModulusFit(Twist,Torque,R,L,a,b)\n",
    "\n",
    "#Find the max shear stress and strain from elastic analysis\n",
    "shearStrain = Twist[a:b]*R/L\n",
    "shearStress = Torque[a:b]*R/J\n",
    "\n",
    "#Plot the max shear stress and strain and fit\n",
    "plt.figure(figsize = (6,5))\n",
    "plt.plot(shearStrain,shearStress,'.-',label = Sample)\n",
    "plt.plot(X,Y,'--',label = 'Modulus Fit G='+str(round(G*1e-9,2))+'GPa')\n",
    "plt.xlabel('Max Shear Strain',fontsize = 16)\n",
    "plt.ylabel('Max Shear Stress (Pa)',fontsize = 16)\n",
    "plt.legend();"
   ]
  },
  {
   "cell_type": "markdown",
   "metadata": {},
   "source": [
    "## Compare the Theoretical and Experimental Torque"
   ]
  },
  {
   "cell_type": "code",
   "execution_count": null,
   "metadata": {},
   "outputs": [],
   "source": [
    "#Experimental Hardening Properties\n",
    "H = [] # Hardening coefficient [Pa]\n",
    "n = [] # Hardening exponent\n",
    "#YOU WILL NEED TO INPUT H AND n VALUES AND MODIFY THEM TO FIT THE DATA\n",
    "\n",
    "#Determine the elastic, plastic and total torque\n",
    "eTorque, pTorque, thTorque = elasticPlasticTorque(Twist,tau_y,H,n,G_th,L,R)\n",
    "\n",
    "#Plot the results\n",
    "fig, axs = plt.subplots(1, 2, figsize=(10,5))\n",
    "axs[0].plot(Twist, Torque, '.-', label = 'Experiment')\n",
    "axs[0].plot(Twist, thTorque, label = 'Theory')\n",
    "axs[0].set_xlabel('Twist Angle(rad) ',fontsize = 16)\n",
    "axs[0].set_ylabel('Torque(Nm)',fontsize = 16)\n",
    "axs[0].set_title('Theoretical vs Experimental Torque',fontsize=16)\n",
    "axs[0].legend();\n",
    "\n",
    "#See the elastic and plastic torque contributions\n",
    "axs[1].plot(Twist, eTorque, label = 'Elastic Torque')\n",
    "axs[1].plot(Twist, pTorque,label = 'Plastic Torque')\n",
    "axs[1].set_xlabel('Twist Angle(rad) ',fontsize = 16)\n",
    "axs[1].set_ylabel('Torque(Nm)',fontsize = 16)\n",
    "axs[1].set_title('Elastic vs Plastic Torque Components',fontsize=16)\n",
    "axs[1].set_xlim([0,10]); #Zoom to get a closer look at the elastic component\n",
    "axs[1].legend();"
   ]
  }
 ],
 "metadata": {
  "kernelspec": {
   "display_name": "Python 3 (ipykernel)",
   "language": "python",
   "name": "python3"
  },
  "language_info": {
   "codemirror_mode": {
    "name": "ipython",
    "version": 3
   },
   "file_extension": ".py",
   "mimetype": "text/x-python",
   "name": "python",
   "nbconvert_exporter": "python",
   "pygments_lexer": "ipython3",
   "version": "3.10.13"
  }
 },
 "nbformat": 4,
 "nbformat_minor": 4
}
