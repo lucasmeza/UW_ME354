{
 "cells": [
  {
   "cell_type": "markdown",
   "metadata": {},
   "source": [
    "# Fracture Data Analysis Code          ~ (* o *) ~"
   ]
  },
  {
   "cell_type": "markdown",
   "metadata": {},
   "source": [
    "#### For this lab, your output data will consist of load vs displacement for all the samples tested. To calculate the fracture toughness of a given material, you will:\n",
    "- Plot the load displacement data\n",
    "- Calculate the slope of the initial elastic region as you did in the tension lab\n",
    "- Construct another line with a slope equal to 95% of the initial elastic region\n",
    "- Find the intersection of the constructed line with the original load displacement curve and record that value\n",
    "- You will insert this value into equation (1) in the manual and obtain the fracture toughness of that sample\n",
    "- Since 3 tests were conducted on the same material, please calculate average values and standard deviation for every material type. \n",
    "\n",
    "All the Best!"
   ]
  },
  {
   "cell_type": "markdown",
   "metadata": {},
   "source": [
    "### All Imports"
   ]
  },
  {
   "cell_type": "code",
   "execution_count": 1,
   "metadata": {},
   "outputs": [],
   "source": [
    "# Import all libraries here\n",
    "import numpy as np\n",
    "import matplotlib.pyplot as plt\n",
    "import pandas as pd\n",
    "from scipy.stats import linregress #Linear regression function built into the Scipy library"
   ]
  },
  {
   "cell_type": "markdown",
   "metadata": {},
   "source": [
    "### Specimen Size"
   ]
  },
  {
   "cell_type": "code",
   "execution_count": 2,
   "metadata": {},
   "outputs": [],
   "source": [
    "## insert the width (W), thickness (B) and crack length (a) here for each sample in meters\n",
    "W = 0.0254     #m\n",
    "B = 0.00628    #m\n",
    "a = 0.00557    #m"
   ]
  },
  {
   "cell_type": "markdown",
   "metadata": {},
   "source": [
    "### Getting Data from Excel to Python"
   ]
  },
  {
   "cell_type": "code",
   "execution_count": 3,
   "metadata": {},
   "outputs": [],
   "source": [
    "# File with all the data\n",
    "dataFile = 'Fracture data_Final_Aut 2020.xlsx'\n",
    "\n",
    "# Create a list of strings corresponding to the tab names in the excel file, then use that \n",
    "#    to import data\n",
    "Setnames = ['Ti 0deg 1', 'Ti 0deg 2', 'Ti 0deg 3' ]\n",
    "Data = {x:{} for x in Setnames}\n",
    "\n",
    "# Import Data\n",
    "for File in Setnames:\n",
    "    Data[File] = pd.read_excel(dataFile, sheet_name = File, skiprows = 4, usecols = \"B:C\", header = None)\n",
    "    # Naming the columns\n",
    "    Data[File].columns = ['Displacement (mm)', 'Load (N)']\n",
    "\n",
    "#Data[Setnames[1]].head() #To check the file is being correctly accessed"
   ]
  },
  {
   "cell_type": "markdown",
   "metadata": {},
   "source": [
    "### Linear Fitting"
   ]
  },
  {
   "cell_type": "code",
   "execution_count": 48,
   "metadata": {},
   "outputs": [],
   "source": [
    "# Write a function here to fit the slope of the elastic region-It is pretty similar to what \n",
    "#    you did to calculate the young's modulus in the tension lab analysis\n",
    "# Inputs of the function can be the load and displacement data along with the points between\n",
    "#    which you want to fit the slope\n",
    "# You can use linear regression to fit the slope\n",
    "# Function should return the slope and the data like intercept (C), regression (R) value and \n",
    "#     X,Y points to visualize the fit on the stress strain curve\n",
    "\n",
    "def slopeFit(Displacement,Load,a,b):\n",
    "    ## Insert function here ##\n",
    "    return slope,C,R,X,Y"
   ]
  },
  {
   "cell_type": "markdown",
   "metadata": {},
   "source": [
    "### Plotting "
   ]
  },
  {
   "cell_type": "code",
   "execution_count": 1,
   "metadata": {},
   "outputs": [],
   "source": [
    "# Plot the load-displacement curve and the linear Fitting together here"
   ]
  },
  {
   "cell_type": "markdown",
   "metadata": {},
   "source": [
    "### Plotting main curve with 95% slope curve"
   ]
  },
  {
   "cell_type": "code",
   "execution_count": 61,
   "metadata": {},
   "outputs": [],
   "source": [
    "# Calculate the line with 95% slope here\n",
    "# It is usually assumed that the start of the 95% slope line is the point where the linear fit\n",
    "#     intersects the displacement axis\n",
    "# The end point of the fit can be calculated by taking any value of displacement and then \n",
    "#     calculating the correspoding y value with 95% slope\n",
    "# We use the outputs (X,Y, slope) of the slope fit function to find the coordinates for \n",
    "#     the 95% slope line\n",
    "\n",
    "# Initialize empty lists to store values\n",
    "Points_1 = []\n",
    "Points_2 = []\n",
    "\n",
    "# Compute values of (x1.y1) and (x2,y2) for 95% slope line\n",
    "for File in range (0, len(Setnames)):\n",
    "    Point1 = [X_values[File][0], Y_values[File][0]]\n",
    "    Point2 = [Data[Setnames[File]]['Displacement (mm)'][len(Data[Setnames[File]]['Displacement (mm)'])-1], (Y_values[File][0] + 0.95*slope_values[File]*(Data[Setnames[File]]['Displacement (mm)'][len(Data[Setnames[File]]['Displacement (mm)'])-1] - X_values[File][0]))]\n",
    "    Points_1.append(Point1)\n",
    "    Points_2.append(Point2)"
   ]
  },
  {
   "cell_type": "markdown",
   "metadata": {},
   "source": [
    "### Plotting"
   ]
  },
  {
   "cell_type": "code",
   "execution_count": 62,
   "metadata": {},
   "outputs": [],
   "source": [
    "# Plot the 95% slope line, load displacement curve and the linear fitting together here"
   ]
  },
  {
   "cell_type": "markdown",
   "metadata": {},
   "source": [
    "### Finding PQ"
   ]
  },
  {
   "cell_type": "code",
   "execution_count": null,
   "metadata": {},
   "outputs": [],
   "source": [
    "# PQ is the load where the 95% slope line intersects the load displacement curve\n",
    "# One method to calculate PQ is to calculate the the y values of the 95% slope line\n",
    "#    for all displacement values and then use the numpy functions to calculate where \n",
    "#    the two curves intersect. \n",
    "# We will store the value of those intersections, the last intersection will be \n",
    "#    the point of maximum load = PQ\n",
    "\n",
    "Pq_values = []\n",
    "\n",
    "for File in range (0, len(Setnames)):\n",
    "    \n",
    "    # Converting load values into an numpy array\n",
    "    Load_0 = np.array(Data[Setnames[File]]['Load (N)'])\n",
    "    # Calculating 95% slope line load values \n",
    "    Load_95 = 0.95*slope_values[File]*np.array(Data[Setnames[File]]['Displacement (mm)'])\n",
    "    \n",
    "    # Taking the difference of the two curves and recording the points of intersection\n",
    "    # idx is a numpy ndarray\n",
    "    idx = np.argwhere(np.diff(np.sign(Load_0 - Load_95))).flatten()\n",
    "    # Last intersection point is PQ\n",
    "    P_Q = Load_0[max(idx)]\n",
    "    # Appending PQ values\n",
    "    Pq_values.append(P_Q)"
   ]
  },
  {
   "cell_type": "markdown",
   "metadata": {},
   "source": [
    "### Verify if fracture test is valid"
   ]
  },
  {
   "cell_type": "code",
   "execution_count": 6,
   "metadata": {},
   "outputs": [],
   "source": [
    "# Insert the conditions here"
   ]
  },
  {
   "cell_type": "markdown",
   "metadata": {},
   "source": [
    "### Calculate Fracture Toughness"
   ]
  },
  {
   "cell_type": "code",
   "execution_count": 8,
   "metadata": {},
   "outputs": [],
   "source": [
    "# Create functions or write equations for F and find Kic"
   ]
  }
 ],
 "metadata": {
  "kernelspec": {
   "display_name": "Python 3",
   "language": "python",
   "name": "python3"
  },
  "language_info": {
   "codemirror_mode": {
    "name": "ipython",
    "version": 3
   },
   "file_extension": ".py",
   "mimetype": "text/x-python",
   "name": "python",
   "nbconvert_exporter": "python",
   "pygments_lexer": "ipython3",
   "version": "3.7.4"
  }
 },
 "nbformat": 4,
 "nbformat_minor": 4
}
