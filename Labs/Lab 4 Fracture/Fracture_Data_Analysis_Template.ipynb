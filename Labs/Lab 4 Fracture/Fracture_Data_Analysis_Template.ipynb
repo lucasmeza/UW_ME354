{
 "cells": [
  {
   "cell_type": "markdown",
   "metadata": {},
   "source": [
    "# Fracture Data Analysis Code          ~ (* o *) ~"
   ]
  },
  {
   "cell_type": "markdown",
   "metadata": {},
   "source": [
    "#### For this lab, your output data will consist of load vs displacement for all the samples tested. To calculate the fracture toughness of a given material, you will:\n",
    "- Plot the load displacement data\n",
    "- Calculate the slope of the initial elastic region as you did in the tension lab\n",
    "- Construct another line with a slope equal to 95% of the initial elastic region\n",
    "- Find the intersection of the constructed line with the original load displacement curve and record that value\n",
    "- You will insert this value into equation (1) in the manual and obtain the fracture toughness of that sample\n",
    "- Since 3 tests were conducted on the same material, please calculate average values and standard deviation for every material type. \n",
    "\n",
    "All the Best!"
   ]
  },
  {
   "cell_type": "markdown",
   "metadata": {},
   "source": [
    "### All Imports"
   ]
  },
  {
   "cell_type": "code",
   "execution_count": 1,
   "metadata": {},
   "outputs": [],
   "source": [
    "# Import all libraries here\n",
    "import numpy as np\n",
    "import matplotlib.pyplot as plt\n",
    "import pandas as pd\n",
    "from scipy.stats import linregress #Linear regression function built into the Scipy library"
   ]
  },
  {
   "cell_type": "markdown",
   "metadata": {},
   "source": [
    "### Specimen Size"
   ]
  },
  {
   "cell_type": "code",
   "execution_count": 2,
   "metadata": {},
   "outputs": [],
   "source": [
    "## insert the width (W), thickness (B) and crack length (a) here for each sample in meters\n",
    "W = 0.0254     #m\n",
    "B = 0.00628    #m\n",
    "a = 0.00557    #m"
   ]
  },
  {
   "cell_type": "markdown",
   "metadata": {},
   "source": [
    "### Getting Data from Excel to Python"
   ]
  },
  {
   "cell_type": "code",
   "execution_count": 3,
   "metadata": {},
   "outputs": [],
   "source": [
    "# File with all the data\n",
    "dataFile = 'Fracture data_Final_Aut 2020.xlsx'\n",
    "\n",
    "# Create a list of strings corresponding to the tab names in the excel file, then use that \n",
    "#    to import data\n",
    "Setnames = ['Ti 0deg 1', 'Ti 0deg 2', 'Ti 0deg 3' ]\n",
    "Data = {x:{} for x in Setnames}\n",
    "\n",
    "# Import Data\n",
    "for File in Setnames:\n",
    "    Data[File] = pd.read_excel(dataFile, sheet_name = File, skiprows = 4, usecols = \"B:C\", header = None)\n",
    "    # Naming the columns\n",
    "    Data[File].columns = ['Displacement (mm)', 'Load (N)']\n",
    "\n",
    "#Data[Setnames[1]].head() #To check the file is being correctly accessed"
   ]
  },
  {
   "cell_type": "markdown",
   "metadata": {},
   "source": [
    "### Linear Fitting"
   ]
  },
  {
   "cell_type": "code",
   "execution_count": 48,
   "metadata": {},
   "outputs": [],
   "source": [
    "# Write a function here to fit the slope of the elastic region-It is pretty similar to what \n",
    "#    you did to calculate the young's modulus in the tension lab analysis\n",
    "# Inputs of the function can be the load and displacement data along with the points between\n",
    "#    which you want to fit the slope\n",
    "# You can use linear regression to fit the slope\n",
    "# Function should return the slope and the data like intercept (C), regression (R) value and \n",
    "#     X,Y points to visualize the fit on the stress strain curve\n",
    "\n",
    "def slopeFit(Displacement,Load,a,b):\n",
    "    ## Insert function here ##\n",
    "    return slope,C,R,X,Y"
   ]
  },
  {
   "cell_type": "markdown",
   "metadata": {},
   "source": [
    "### Plotting "
   ]
  },
  {
   "cell_type": "code",
   "execution_count": 1,
   "metadata": {},
   "outputs": [],
   "source": [
    "# Plot the load-displacement curve and the linear Fitting together here"
   ]
  },
  {
   "cell_type": "markdown",
   "metadata": {},
   "source": [
    "### Plotting main curve with 95% slope curve and Finding PQ"
   ]
  },
  {
   "cell_type": "code",
   "execution_count": 61,
   "metadata": {},
   "outputs": [],
   "source": [
    "# Here we use the outputs (X,Y, slope) of the slope fit function. You first run the function and \n",
    "#    store these values as lists (X_values, Y_values, slope_values).\n",
    "# Now use these values to calculate the 95% slope line. We do this by using the simple line equation \n",
    "#    y = m*x + c. To do this we use the X_values and Y_values as the initial point (x1, y1) and then use\n",
    "#    the list of displacement values (x2) to calculate the corresponding 95% load values (y2)\n",
    "# We store these values of (y2) as Load_95.\n",
    "# All data entities above (X_values, Y_values, slope_values, Load_95) will be list of lists\n",
    "# Now we calculate the index of intersection, idx.\n",
    "# Since PQ is the load where the 95% slope line intersects the load displacement curve,\n",
    "# one method to calculate PQ is to calculate the the y values of the 95% slope line\n",
    "#    for all displacement values and then use the numpy functions to calculate where \n",
    "#    the two curves intersect. \n",
    "# We will store the value of those intersections, the last intersection will be \n",
    "#    the point of maximum load = PQ\n",
    "\n",
    "# Initialize empty lists to store values\n",
    "Load_95 = []\n",
    "Pq_values = []\n",
    "\n",
    "# Compute values of (x1.y1) and (x2,y2) for 95% slope line\n",
    "for File in range (0, len(Setnames)):\n",
    "    Load_95_tot =[]\n",
    "    for i in range (0, len(Data[Setnames[File]]['Displacement (mm)'])):\n",
    "        # This is the step to calculate (y2) by doing (y1 -m*(x2-x1))\n",
    "        Load_values_95 = Y_values[File][0] + 0.95*slope_values[File]*(Data[Setnames[File]]['Displacement (mm)'][i] - X_values[File][0])\n",
    "        # Appending the above calculated values\n",
    "        Load_95_tot.append(Load_values_95)\n",
    "    Load_95.append(Load_95_tot)\n",
    "    # Converting the load values from the test into an np array for plotting convenience\n",
    "    Load_0 = np.array(Data[Setnames[File]]['Load (N)'])\n",
    "    # Finding the point of intersection of the 95% slope line with the load displacement curve\n",
    "    idx = np.argwhere(np.diff(np.sign(Load_0 - Load_95[File]))).flatten()\n",
    "    # Last intersection point is PQ\n",
    "    P_Q = Load_0[max(idx)]\n",
    "    # Appending PQ values\n",
    "    Pq_values.append(P_Q)"
   ]
  },
  {
   "cell_type": "markdown",
   "metadata": {},
   "source": [
    "### Plotting"
   ]
  },
  {
   "cell_type": "code",
   "execution_count": 62,
   "metadata": {},
   "outputs": [],
   "source": [
    "# Plot the 95% slope line, load displacement curve and the linear fitting together here"
   ]
  },
  {
   "cell_type": "markdown",
   "metadata": {},
   "source": [
    "### Verify if fracture test is valid"
   ]
  },
  {
   "cell_type": "code",
   "execution_count": 6,
   "metadata": {},
   "outputs": [],
   "source": [
    "# Insert the conditions here"
   ]
  },
  {
   "cell_type": "markdown",
   "metadata": {},
   "source": [
    "### Calculate Fracture Toughness"
   ]
  },
  {
   "cell_type": "code",
   "execution_count": 8,
   "metadata": {},
   "outputs": [],
   "source": [
    "# Create functions or write equations for F and find Kic"
   ]
  }
 ],
 "metadata": {
  "kernelspec": {
   "display_name": "Python 3",
   "language": "python",
   "name": "python3"
  },
  "language_info": {
   "codemirror_mode": {
    "name": "ipython",
    "version": 3
   },
   "file_extension": ".py",
   "mimetype": "text/x-python",
   "name": "python",
   "nbconvert_exporter": "python",
   "pygments_lexer": "ipython3",
   "version": "3.7.4"
  }
 },
 "nbformat": 4,
 "nbformat_minor": 4
}
