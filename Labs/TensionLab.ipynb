{
 "cells": [
  {
   "cell_type": "markdown",
   "metadata": {},
   "source": [
    "# Tension Lab Analysis Code ヽ(•‿•)ノ"
   ]
  },
  {
   "cell_type": "markdown",
   "metadata": {},
   "source": [
    "## Define The Sample Parameters\n",
    "#### You will need to change these for every sample type"
   ]
  },
  {
   "cell_type": "code",
   "execution_count": null,
   "metadata": {},
   "outputs": [],
   "source": [
    "thickness = 6.2 # Input thickness in mm\n",
    "width = 12.3 # Input Width in mm\n",
    "Area = thickness*width #in mm^2\n",
    "#print(\"Area =\", Area, \"mm^2\" )"
   ]
  },
  {
   "cell_type": "markdown",
   "metadata": {},
   "source": [
    "## Read The Data File\n",
    "#### We will be using Pandas as our data analysis library"
   ]
  },
  {
   "cell_type": "code",
   "execution_count": null,
   "metadata": {},
   "outputs": [],
   "source": [
    "import pandas as pd\n",
    "\n",
    "fileName = '6061 Aluminum Sample 1.csv'\n",
    "\n",
    "Data = pd.read_csv(fileName) #this function reads the .csv file\n",
    "\n",
    "#You can access the keys to get a list of the column names\n",
    "dKeys = Data.keys() #This is the name of all the columns of Data\n",
    "#print(dKeys)\n",
    "#print(Data[dKeys[3]]) #This accesses one of the data keys if you don't know the names\n",
    "#print(Data['Axial Strain (mm/mm)']) #This accesses one of the data keys if you do know the names\n",
    "\n",
    "#You can also print out parts of the file\n",
    "#Data.head() #run this to output the first 5 lines of data\n",
    "#Data.tail() #run this instead to output the last 5 lines of data\n",
    "\n",
    "#And get help on the function if you're confused\n",
    "#help(pd.read_csv)"
   ]
  },
  {
   "cell_type": "markdown",
   "metadata": {},
   "source": [
    "## Add Extra Columns to the Data\n",
    "#### We can directly add items to a pandas data type using dictName['new item']= *something*"
   ]
  },
  {
   "cell_type": "code",
   "execution_count": null,
   "metadata": {},
   "outputs": [],
   "source": [
    "emptyList = [[]]*len(Data.index) #This is an empty list with the same length as the data file\n",
    "#Note, when you multiply Python lists it just copies the list, e.g. [[1]]*3=[[1],[1],[1]]\n",
    "\n",
    "#Here's some example new dictionary calculations\n",
    "Data['Strain (mm/mm)'] = Data['Axial Strain (mm/mm)'] #this adds another strain column to the data\n",
    "Data['Stress (MPa)'] = Data['Load (N)']/Area #this adds stress to the data\n",
    "    \n",
    "#YOU'LL NEED TO ADD FUNCTIONS HERE\n",
    "Data['Instantaneous Area (mm^2)'] = emptyList #Calculate the instantaneous area using the original dimensions and the transverse strain\n",
    "Data['True Stress (MPa)'] = emptyList #Add in the true stress here\n",
    "Data['True Strain (mm/mm)'] = emptyList #Add in the true strain here,\n",
    "#Data.head()"
   ]
  },
  {
   "cell_type": "markdown",
   "metadata": {},
   "source": [
    "## Plot The Data\n",
    "#### We will use zoomed sections to better visualize the elastic region"
   ]
  },
  {
   "cell_type": "code",
   "execution_count": null,
   "metadata": {},
   "outputs": [],
   "source": [
    "import matplotlib.pyplot as plt\n",
    "\n",
    "fig, axs = plt.subplots(2, 2, figsize=(10,7))\n",
    "\n",
    "#Plot the stress/strain in the first column\n",
    "axs[0,0].plot(Data['Strain (mm/mm)'],Data['Stress (MPa)'])\n",
    "axs[1,0].plot(Data['Strain (mm/mm)'],Data['Stress (MPa)'])\n",
    "###You can modify this for true stress and true strain###\n",
    "\n",
    "#Plot the axial/transverse strain in the second column\n",
    "axs[0,1].plot(Data['Strain (mm/mm)'],Data['Transverse Strain (mm/mm)'])\n",
    "axs[1,1].plot(Data['Strain (mm/mm)'],Data['Transverse Strain (mm/mm)'])\n",
    "\n",
    "#Zoom in on the data in the bottom plots\n",
    "eZoom = 0.01; tZoom = 0.004; sZoom = 350\n",
    "axs[0,0].plot([0,0,eZoom,eZoom,0],[0,sZoom,sZoom,0,0],'r--') #superimpose the zoom box\n",
    "axs[0,1].plot([0,0,eZoom,eZoom,0],[0,tZoom,tZoom,0,0],'r--') #superimpose the zoom box\n",
    "axs[0,0].set_xlim(left = 0)\n",
    "axs[0,0].set_ylim(bottom = 0)\n",
    "axs[0,1].set_xlim(left = 0)\n",
    "axs[0,1].set_ylim(bottom = 0)\n",
    "axs[1,0].set_xlim(left = 0, right = eZoom) # Zoom strain\n",
    "axs[1,0].set_ylim(bottom = 0, top = sZoom) #Zoom stress\n",
    "axs[1,1].set_xlim(left = 0, right = eZoom) # Zoom strain\n",
    "axs[1,1].set_ylim(bottom = 0, top = tZoom) #Zoom transverse strain\n",
    "\n",
    "#Add Labels\n",
    "axs[0,0].set_title(\"Engineering Stress vs Strain\")\n",
    "axs[0,1].set_title(\"Axial vs Transverse Strain\")\n",
    "axs[0,0].set_xlabel('Strain (mm/mm)')\n",
    "axs[0,1].set_xlabel('Strain (mm/mm)')\n",
    "axs[1,0].set_xlabel('Strain (mm/mm)')\n",
    "axs[1,1].set_xlabel('Strain (mm/mm)')\n",
    "axs[0,0].set_ylabel('Stress (MPa)')\n",
    "axs[1,0].set_ylabel('Stress (MPa)')\n",
    "axs[0,1].set_ylabel('Transverse Strain (mm/mm)')\n",
    "axs[1,1].set_ylabel('Transverse Strain (mm/mm)')\n",
    "plt.tight_layout()\n",
    "plt.show()"
   ]
  },
  {
   "cell_type": "markdown",
   "metadata": {},
   "source": [
    "## Getting Material Properties \n",
    "#### Young's modulus is the slope of stress vs strain in elastic region.\n",
    "#### Poisson's ratio is the ratio between axial and transverse strain in the elastic region.\n",
    "#### Yield strength is the point where the material starts to plastically deform.\n",
    "#### There are many ways to do these calculations, the code here is a manual method."
   ]
  },
  {
   "cell_type": "code",
   "execution_count": null,
   "metadata": {},
   "outputs": [],
   "source": [
    "from scipy.stats import linregress #This is a linear regression function built into the Scipy library. \n",
    "\n",
    "def modulusFit(Strain,Stress,a,b):\n",
    "    '''This is a linear fit to data between the data indices for a and b. Note, this will\n",
    "    return an error if a or b are outside the length of Strain and Stress.'''\n",
    "    \n",
    "    #Fit the modulus\n",
    "    E,C,R,P,Err = linregress(Strain[a:b],Stress[a:b]) #The data outputs the slope (E), intercept (C), regression (R) value, P-value and standard error\n",
    "    #Note: Python lets you save multivariable outputs with a comma, i.e. a,b=[1,2] will give a=1 and b=2\n",
    "    \n",
    "    #Make a line for the fit data\n",
    "    Y = [0.0, max(Stress)] #this is a list of length 2 for plotting the fit data later\n",
    "    X = [(y-C)/E for y in Y] #these are points that you can plot to visualize the data being fit, inverted from y=E*x+C, x=(y-C)/E\n",
    "    return E,C,R,X,Y\n",
    "\n",
    "def yieldStress(Strain,Stress,E,C,eOffset=0.002):\n",
    "    '''This function will find the yield stress based on a 0.2% offset strain method.\n",
    "    You must input the stress, strain, Youngs modulus E, fit line intercept point b, and\n",
    "    can change the strain offset value.'''\n",
    "    \n",
    "    yP = next((i for i,x in enumerate(Strain) if Stress[i] < E*(x-eOffset) + C),len(Strain)-1)\n",
    "    #This code finds the first point where the Stress exceeds the strain offset line defined by y=E*(x-eOffset)+b\n",
    "    #This is the simplest way to determine a slope intercept, but it only works if the stress and the offset line intersect\n",
    "    \n",
    "    return yP #this returns the index i of the yield stress, if you want it to return the stress, use: return Stress[yP]\n",
    "\n",
    "def PoissonFit(axialStrain,transverseStrain,a,b):\n",
    "    '''This is a linear fit to data between the data indices for a and b. Note, this will\n",
    "    return an error if a or b are outside the length of Strain.'''\n",
    "    \n",
    "    #Fit the modulus\n",
    "    nu,C,R,P,Err = linregress(axialStrain[a:b],transverseStrain[a:b]) #The data outputs the slope (nu), intercept (C), regression (R) value, P-value and standard error\n",
    "    #Note: Python lets you save multivariable outputs with a comma, i.e. a,b=[1,2] will give a=1 and b=2\n",
    "    \n",
    "    #Make a line for the fit data\n",
    "    yEnd = min([int(1.5*b),len(transverseStrain)-1])\n",
    "    Y = [0.0, transverseStrain[yEnd]]\n",
    "    X = [(y-C)/nu for y in Y] #these are points that you can plot to visualize the data being fit, inverted from y=nu*x+C, x=(y-C)/nu\n",
    "    return nu,R,X,Y"
   ]
  },
  {
   "cell_type": "markdown",
   "metadata": {},
   "source": [
    "## Use the functions to find material properties\n",
    "## YOU WILL NEED TO EDIT THESE FITTING POINTS TO DETERMINE MATERIAL PROPERTIES"
   ]
  },
  {
   "cell_type": "code",
   "execution_count": null,
   "metadata": {},
   "outputs": [],
   "source": [
    "#Save dummy variables to make the code cleaner below\n",
    "aStrain = Data['Strain (mm/mm)'].values[:-1]\n",
    "tStrain = Data['Transverse Strain (mm/mm)'].values[:-1]\n",
    "aStress = Data['Stress (MPa)'].values[:-1]\n",
    "\n",
    "## Young's Modulus Fit\n",
    "aE = 20; bE = 150 #You will need to edit these values to determine the best fit\n",
    "E,C,RE,XE,YE = modulusFit(aStrain,aStress,aE,bE)\n",
    "\n",
    "## Yield Strength Fit\n",
    "eOff = 0.002 #0.2% strain offset\n",
    "iYield = yieldStress(aStrain,aStress,E,C,eOffset=eOff) #Note, this is the index of the yield\n",
    "sy = aStress[iYield]\n",
    "\n",
    "## Poisson's Ratio Fit\n",
    "anu = 100; bnu = 300  #You will need to edit these values to determine the best fit\n",
    "nu,Rnu,Xnu,Ynu = PoissonFit(aStrain,tStrain,anu,bnu)"
   ]
  },
  {
   "cell_type": "markdown",
   "metadata": {},
   "source": [
    "## See how the fits look and adjust accordingly\n",
    "#### We'll just be plotting the zoomed region here so we can see the elastic region better"
   ]
  },
  {
   "cell_type": "code",
   "execution_count": null,
   "metadata": {},
   "outputs": [],
   "source": [
    "fig, axs = plt.subplots(1, 2, figsize=(10,5))\n",
    "\n",
    "axs[0].plot(aStrain,aStress) #Plot the stress/strain in the first column\n",
    "axs[1].plot(aStrain,tStrain) #Plot the axial/transverse strain in the second column\n",
    "\n",
    "#Zoom in on the data in the bottom plots\n",
    "eZoom = 0.01; tZoom = 0.004; sZoom = 350\n",
    "axs[0].set_xlim(left = 0, right = eZoom) # Zoom strain\n",
    "axs[0].set_ylim(bottom = 0, top = sZoom) #Zoom stress\n",
    "axs[1].set_xlim(left = 0, right = eZoom) # Zoom strain\n",
    "axs[1].set_ylim(bottom = 0, top = tZoom) #Zoom transverse strain\n",
    "\n",
    "#Plot the Young's fits\n",
    "axs[0].plot(aStrain[aE],aStress[aE],'rd') #This is the first point we're fitting from \n",
    "axs[0].plot(aStrain[bE],aStress[bE],'rs') #this is the last point we're fitting to\n",
    "# axs[0].plot(aStrain[aE:bE],aStress[aE:bE],'r.') #this will show all the data we're fitting\n",
    "axs[0].plot(XE,YE,label='E='+str(round(E*1e-3,1))+' GPa, R='+str(round(RE,4)))\n",
    "\n",
    "#Plot the Yield Stress\n",
    "xOffset = [x+eOff for x in XE]\n",
    "axs[0].plot(aStrain[iYield],aStress[iYield],'ro',label=r'Yield, $\\sigma_y$='+str(round(aStress[iYield],1))+' MPa')\n",
    "axs[0].plot(xOffset,YE,'--')\n",
    "\n",
    "#Plot the Poisson's fit\n",
    "axs[1].plot(aStrain[anu],tStrain[anu],'rd') #This is the first point we're fitting from\n",
    "axs[1].plot(aStrain[bnu],tStrain[bnu],'bs') #This is the last point we're fitting from\n",
    "# axs[1].plot(aStrain[anu:bnu],tStrain[anu:bnu],'b.') #These are all the points we're fitting\n",
    "axs[1].plot(Xnu,Ynu,label=r\"Poisson's Ratio Fit, $\\nu$=\"+str(round(nu,3)))\n",
    "\n",
    "#Add Labels\n",
    "axs[0].set_title(\"Modulus Fit\")\n",
    "axs[1].set_title(\"Poisson's Fit\")\n",
    "axs[0].set_xlabel('Strain (mm/mm)')\n",
    "axs[1].set_xlabel('Strain (mm/mm)')\n",
    "axs[0].set_ylabel('Stress (MPa)')\n",
    "axs[1].set_ylabel('Transverse Strain (mm/mm)')\n",
    "axs[0].legend()\n",
    "axs[1].legend()\n",
    "plt.tight_layout()\n",
    "plt.show()"
   ]
  },
  {
   "cell_type": "markdown",
   "metadata": {},
   "source": [
    "#### You can see that slightly different 'linear regions' for measuring the slope can produce noticeably different results"
   ]
  },
  {
   "cell_type": "markdown",
   "metadata": {},
   "source": [
    "## Average the Data\n",
    "#### Once you have found good fitting points, you will need to save these results and average them for all the data"
   ]
  },
  {
   "cell_type": "code",
   "execution_count": null,
   "metadata": {},
   "outputs": [],
   "source": [
    "from numpy import mean,std \n",
    "\n",
    "#You can call the mean and std (standard deviation) for your data\n",
    "youngsModuli = [] #Add Data Here\n",
    "poissonsRatios = [] #Add Data Here\n",
    "yieldStrengths = [] #Add Data Here\n",
    "\n",
    "#Calculate Averages\n",
    "averageE = mean(youngsModuli)\n",
    "stdE = std(youngsModuli)\n",
    "averagenu = mean(poissonsRatios)\n",
    "stdnu = std(poissonsRatios)\n",
    "averageSy = mean(yieldStrengths)\n",
    "stdSy = std(yieldStrengths)"
   ]
  },
  {
   "cell_type": "markdown",
   "metadata": {},
   "source": [
    "#### Brief aside - here's a quick look at how the yield function works"
   ]
  },
  {
   "cell_type": "code",
   "execution_count": null,
   "metadata": {},
   "outputs": [],
   "source": [
    "aList = [1,3,5,2,1,6,8,7] #this is a list of integers\n",
    "aListSquared = [x**2 for x in aList] #this is a list comprehension that squares every entry in aList, it will go through the list elements sequentially\n",
    "aListIndex = [i for i,x in enumerate(aList)] #this spits out all the indices of the elements in a list, here just 0,1,2,3...\n",
    "aListPart = [x for x in aList if x>4] #this finds all the list elements that are greater than 4\n",
    "aListNext = next(x for x in aList if x>4) #this finds the next list element that is greater than 4\n",
    "aListNextIndex = next(i for i,x in enumerate(aList) if x>4) #this finds the index of the next list value greater than 4\n",
    "print(aList)\n",
    "print(aListSquared)\n",
    "print(aListIndex)\n",
    "print(aListPart)\n",
    "print(aListNext)\n",
    "print(aListNextIndex)\n",
    "print(aList[aListNextIndex])"
   ]
  }
 ],
 "metadata": {
  "kernelspec": {
   "display_name": "Python 3 (ipykernel)",
   "language": "python",
   "name": "python3"
  },
  "language_info": {
   "codemirror_mode": {
    "name": "ipython",
    "version": 3
   },
   "file_extension": ".py",
   "mimetype": "text/x-python",
   "name": "python",
   "nbconvert_exporter": "python",
   "pygments_lexer": "ipython3",
   "version": "3.10.13"
  }
 },
 "nbformat": 4,
 "nbformat_minor": 4
}
