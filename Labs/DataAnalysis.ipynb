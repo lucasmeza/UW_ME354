{
 "cells": [
  {
   "cell_type": "markdown",
   "id": "3ff02b76-e040-472b-b4c4-93b4cc54978f",
   "metadata": {},
   "source": [
    "# LAB0 : Data Analysis "
   ]
  },
  {
   "cell_type": "markdown",
   "id": "0685f818-bf41-4c01-a4e1-7ba5b45f5e68",
   "metadata": {},
   "source": [
    "## Problem 1"
   ]
  },
  {
   "cell_type": "code",
   "execution_count": 36,
   "id": "2c5243bb-d14d-4c06-8613-93c94de28d7b",
   "metadata": {},
   "outputs": [],
   "source": [
    "# The following is an example solution using different values from those provided in the lab. You may use this code as a reference or write your own implementation.\n",
    "\n",
    "import math\n",
    "# This library allows you to use \"pi\" in your calculations by referencing it as math.pi.\n",
    "# Example: Calculate the area of a circle using the formula area = math.pi * radius ** 2.\n",
    "\n",
    "# Given data\n",
    "load_mass = 8000  # Load mass in kilograms\n",
    "gravity = 9.81  # Acceleration due to gravity in m/s^2\n",
    "force = load_mass * gravity  # Force applied on the bar in Newtons (N)\n",
    "\n",
    "diameter = 0.03  # Diameter of the bar in meters (30 mm = 0.03 m)\n",
    "radius = diameter / 2  # Radius of the bar in meters\n",
    "area = math.pi * (radius ** 2)  # Cross-sectional area of the bar in square meters (πr^2)\n",
    "\n",
    "youngs_modulus = 210 * 10**9  # Young's Modulus of the material in Pascals (Pa)\n",
    "\n",
    "# Calculations\n",
    "stress = force / area  # Stress in Pascals (N/m^2), calculated as Force / Area\n",
    "strain = stress / youngs_modulus  # Strain (unitless), calculated as Stress / Young's Modulus\n",
    "\n",
    "# Convert stress to MPa (1 Pa = 10^-6 MPa)\n",
    "stress_mpa = stress / 10**6\n",
    "\n",
    "# Output 1. strees in MPa and 2. formatted strain (6 digits after decimal)\n",
    "print(f\"Stress: {stress_mpa:.2f} MPa\")\n",
    "print(f\"Strain: {strain:.6f}\")"
   ]
  },
  {
   "cell_type": "markdown",
   "id": "3025c4ce-73c1-4d15-ad21-462542cf574c",
   "metadata": {},
   "source": [
    "## Problem 2"
   ]
  },
  {
   "cell_type": "code",
   "execution_count": 38,
   "id": "6daa1bab-6792-422e-8ee8-aaa41f803c5c",
   "metadata": {},
   "outputs": [],
   "source": [
    "# The following is an example solution using different values from those provided in the lab. You may use this code as a reference or write your own implementation.\n",
    "\n",
    "# Define the function to calculate deflection\n",
    "def calculate_deflection(P, L, E, I):\n",
    "    # Deflection formula: delta = (P * L^3) / (48 * E * I)\n",
    "    delta = (P * L**3) / (48 * E * I)\n",
    "    \n",
    "    # Safety limit check\n",
    "    if delta > 0.014:\n",
    "        print(f\"Warning: Deflection of {delta:.4f} meters exceeds the safety limit!\")\n",
    "    else:\n",
    "        print(f\"Deflection of {delta:.4f} meters is within safe limits.\")\n",
    "    \n",
    "    return delta\n",
    "\n",
    "# Given values\n",
    "P = 8000  # Load in Newtons\n",
    "L = 4  # Length of the beam in meters\n",
    "E = 1.8 * 10**11  # Young's Modulus in Pascals for Steel\n",
    "I = 6.5 * 10**-6  # Moment of inertia in meters^4\n",
    "\n",
    "# Call the function to calculate deflection\n",
    "calculate_deflection(P, L, E, I)"
   ]
  },
  {
   "cell_type": "markdown",
   "id": "ed1492f8-6ad9-4daa-9094-c9e26406d1c1",
   "metadata": {},
   "source": [
    "## Problem 3"
   ]
  },
  {
   "cell_type": "code",
   "execution_count": 40,
   "id": "8b7c58c8-f941-4c56-802c-4b960387a04d",
   "metadata": {},
   "outputs": [],
   "source": [
    "import pandas as pd\n",
    "import matplotlib.pyplot as plt\n",
    "\n",
    "# Step a) Import the data from the CSV file\n",
    "data = pd.read_csv('Lab0data1.csv')  \n",
    "\n",
    "# Extract the columns\n",
    "force = data['force']  # Force in Newtons\n",
    "area = data['area']  # Cross-sectional area in square meters\n",
    "elongation = data['elongation']  # Elongation in meters\n",
    "\n",
    "# Step b) Calculate stress and strain\n",
    "stress = force / area  # Stress = Force / Area (in Pascals, Pa)\n",
    "\n",
    "# Assume original length (L0) for strain calculation (50 mm = 0.05 meters)\n",
    "L0 = 0.05  # Original length in meters\n",
    "strain = elongation / L0  # Strain = Elongation / Original Length\n",
    "\n",
    "# Create the plot\n",
    "plt.figure(figsize=(8, 6))  # Set the figure size for better visualization\n",
    "plt.plot(strain, stress, label='Stress vs Strain', color='b', marker='o') # Plot the data\n",
    "\n",
    "# Add labels and title\n",
    "plt.xlabel('Strain (dimensionless)', fontsize=12)\n",
    "plt.ylabel('Stress (Pa)', fontsize=12)\n",
    "plt.title('Stress vs Strain from Tensile Test Data', fontsize=14)\n",
    "plt.grid(True) # Add grid lines to make the plot easier to read\n",
    "plt.legend() # Show a legend to indicate what the plot represents\n",
    "\n",
    "# Show the plot\n",
    "plt.show()"
   ]
  },
  {
   "cell_type": "markdown",
   "id": "f4348a24-1aac-45dd-99dd-811ff5e543e7",
   "metadata": {},
   "source": [
    "## Problem 4 : Tensile Test Analysis"
   ]
  },
  {
   "cell_type": "code",
   "execution_count": 42,
   "id": "32337d09-be53-476e-bda0-de642d1beb71",
   "metadata": {},
   "outputs": [],
   "source": [
    "#Import the data from the CSV file, Colomn 1 contains elongation, Colomn 2 contains force\n",
    "Data1 = pd.read_csv('Lab0data2.csv', header=None)  \n",
    "Data1.head()\n",
    "\n",
    "#Process Data\n",
    "Height = 22400 \n",
    "Area = 1\n",
    "Data1['Strain'] = Data1[1]/Height\n",
    "Data1['Stress'] = Data1[2]/Area\n",
    "\n",
    "#Plot Data\n",
    "fig = plt.figure(1, figsize=(10,6), dpi=64)\n",
    "ax = fig.gca()\n",
    "ax.plot(Data1['Strain'],Data1['Stress'],'.-',label=('Raw Data'))\n",
    "ax.set_xlabel('Strain')\n",
    "ax.set_ylabel('Stress (MPa)')\n",
    "ax.legend()\n",
    "plt.title('Stress vs Strain from Tensile Test Data', fontsize=10)\n",
    "ax.set_xlim(left=0, right=0.1)\n",
    "ax.set_ylim(bottom=-0.1, top=2.5)"
   ]
  },
  {
   "cell_type": "code",
   "execution_count": 44,
   "id": "c868573a-90c1-4965-aa0c-da1957f73e95",
   "metadata": {},
   "outputs": [],
   "source": [
    "#Find Elastic Modulus\n",
    "import numpy as np\n",
    "\n",
    "# Visual identification of the elastic zone\n",
    "elastic_start = 0.01   # Replace this value by the lower elastic strain value\n",
    "elastic_stop = 0.06    # Replace this value by the higher elastic strain value\n",
    "\n",
    "# Filter the data for the elastic region\n",
    "elastic_region = (Data1['Strain'] >= elastic_start) & (Data1['Strain'] <= elastic_stop)\n",
    "Stress_elastic = Data1['Stress'][elastic_region]\n",
    "Strain_elastic = Data1['Strain'][elastic_region]\n",
    "\n",
    "# Perform a linear fit on the elastic region to determine the slope (Elastic Modulus) and y-intercept\n",
    "m, b = np.polyfit(Strain_elastic, Stress_elastic, 1)  # Degree 1 for linear fit\n",
    "mFit = [(m, b)]  # Store the slope (m) and intercept (b) as a tuple\n",
    "\n",
    "# Display the linear fit results\n",
    "print(f\"Young Modulus (E): {m:.2f} MPa\")\n",
    "print(f\"Y-intercept of the fit: {b:.2f}\")"
   ]
  },
  {
   "cell_type": "code",
   "execution_count": 46,
   "id": "5cd11500-d969-4654-a8de-dad22f963153",
   "metadata": {},
   "outputs": [],
   "source": [
    "# Yield Strength Calculation\n",
    "eOff = 0.001   # Replace this value by the strain offset for yield strength using the 0.2% offset method\n",
    "\n",
    "# Apply the offset to the strain values to create the offset line\n",
    "mXOff = [strain + eOff for strain in Data1['Strain']]  # Offset strain values\n",
    "\n",
    "# Initialize a list to store the index of the yield point\n",
    "yP = []\n",
    "\n",
    "# Use the linear fit parameters (slope and intercept) from the elastic region\n",
    "m = mFit[0][0]  # Slope of the linear fit (Elastic Modulus)\n",
    "b = mFit[0][1]  # Y-intercept of the linear fit\n",
    "\n",
    "# Find the yield point:\n",
    "# The yield point is where the stress-strain curve deviates from the offset line\n",
    "yield_index = next(  # Get the first index where the deviation condition is met\n",
    "    (i for i, (stress, strain) in enumerate(zip(Data1['Stress'], Data1['Strain']))\n",
    "     if stress < m * (strain - eOff) + b), None  # Offset line equation: y = m * (x - eOff) + b\n",
    "    )\n",
    "\n",
    "# Append the yield point index to the list\n",
    "if yield_index is not None:\n",
    "    yP.append(yield_index)\n",
    "    # Print the stress value at the yield point\n",
    "    print(f\"Yield Strength: {Data1['Stress'][yP[-1]]:.2f} MPa\")\n",
    "else:\n",
    "    print(\"No yield point found in the data.\")"
   ]
  },
  {
   "cell_type": "code",
   "execution_count": 47,
   "id": "ff7502a3-df92-407e-bdc5-65f981ca6e75",
   "metadata": {},
   "outputs": [],
   "source": [
    "# Create a figure for the plot with specified size and resolution\n",
    "fig = plt.figure(1, figsize=(10,6), dpi=64)\n",
    "ax = fig.gca() # Create an axis object for plotting\n",
    "\n",
    "# Plot the raw stress-strain data using dashed lines ('--') and label as 'Test Data'\n",
    "ax.plot(Data1['Strain'],Data1['Stress'],'--',label=('Test Data'))    \n",
    "\n",
    "# Plot the linear fit for the elastic region (Elastic Fit Line)\n",
    "# 'm' is the slope and 'b' is the intercept from the linear fit (calculated earlier)\n",
    "# The line represents the linear elastic behavior of the material\n",
    "ax.plot(Data1['Strain'], m * Data1['Strain'] + b, '--', label='Elastic Fit Line')\n",
    "\n",
    "# Apply the 0.2% offset method to create the offset line\n",
    "mXOff = Data1['Strain'] + 0.002 \n",
    "mYOff = m * mXOff + b # Calculate corresponding stress values using the offset\n",
    "\n",
    "# Plot the 0.2% offset line (dashed line) with label '0.2% Offset Line'\n",
    "ax.plot(mXOff, m * Data1['Strain'] + b, '--', label='0.2% Offset Line')\n",
    "\n",
    "# Highlight the yield point on the graph with a red marker ('ro') at the given index yP[0]\n",
    "ax.plot(Data1['Strain'][yP[0]],Data1['Stress'][yP[0]],'ro',ms=10)\n",
    "ax.set_xlabel('Strain')\n",
    "ax.set_ylabel('Stress (MPa)')\n",
    "ax.legend()\n",
    "ax.set_xlim(left=0, right=0.2)\n",
    "ax.set_ylim(bottom=-0.1, top=2.5)\n"
   ]
  },
  {
   "cell_type": "markdown",
   "id": "3e44f5be-89a2-4820-b3d1-0d95f99be31c",
   "metadata": {},
   "source": [
    "## Coding Mistakes Problem (Optional)"
   ]
  },
  {
   "cell_type": "code",
   "execution_count": 17,
   "id": "030e60cd-4445-47dc-8f11-0175e0789e5b",
   "metadata": {},
   "outputs": [
    {
     "ename": "SyntaxError",
     "evalue": "expected ':' (1436401499.py, line 8)",
     "output_type": "error",
     "traceback": [
      "\u001b[0;36m  Cell \u001b[0;32mIn[17], line 8\u001b[0;36m\u001b[0m\n\u001b[0;31m    def beam_deflection(length, load, modulus, moment_of_inertia)\u001b[0m\n\u001b[0m                                                                 ^\u001b[0m\n\u001b[0;31mSyntaxError\u001b[0m\u001b[0;31m:\u001b[0m expected ':'\n"
     ]
    }
   ],
   "source": [
    "# Mechanics of Materials: Beam Deflection Calculation\n",
    "\n",
    "# Importing necessary libraries\n",
    "import numpy as np\n",
    "import matplotlib.pyplot as plt\n",
    "\n",
    "# Defining the deflection function for a simply supported beam with a central load\n",
    "def beam_deflection(length, load, modulus, moment_of_inertia)\n",
    "    \"\"\"\n",
    "    This function calculates the deflection at the center of a simply supported beam\n",
    "    subjected to a central point load using the formula:\n",
    "    deflection = (load * length^3) / (48 * modulus * moment_of_inertia)\n",
    "    \n",
    "    Parameters:\n",
    "    length (float): Length of the beam (m)\n",
    "    load (float): Central load applied (N)\n",
    "    modulus (float): Young's Modulus of the material (Pa)\n",
    "    moment_of_inertia (float): Moment of inertia of the beam cross-section (m^4)\n",
    "    \n",
    "    Returns:\n",
    "    float: Deflection at the center of the beam (m)\n",
    "    \"\"\"\n",
    "    return (load * length ** 3) / (48 * modulus * moment_of_inertia\n",
    "\n",
    "# Example values (these might not be realistic, just for demonstration)\n",
    "length = 4.0  # Length of the beam in meters\n",
    "load = 5000    # Load applied in Newtons\n",
    "modulus = 2.1e11  # Young's modulus in Pascals (steel)\n",
    "moment_of_inertia = 1.5e-6  # Moment of inertia in m^4\n",
    "\n",
    "# Calculate deflection\n",
    "deflection = beam_deflection(length, load, modulus, moment_of_inertia)\n",
    "print(f\"The deflection at the center of the beam is: {deflection} meters\")\n",
    "\n",
    "lengths = np.linspace(1, 10, 10)  # Lengths from 1 to 10 meters\n",
    "\n",
    "# deflection calculation for each length\n",
    "deflections = [beam_deflection(l, load, modulus, moment_of_inertia) for l in lenghts]  \n",
    "\n",
    "# Plotting the deflection as a function of length for different loads\n",
    "loads = np.array([5000, 10000, 15000, 20000])  # Different load values\n",
    "\n",
    "plt.figure(figsize=(8, 6))\n",
    "for load in loads:\n",
    "    deflections = [beam_deflection(lengths, load, modulus, moment_of_inertia)] \n",
    "    \n",
    "    # Logic issue: should be looped through all lengths for plotting\n",
    "    plt.plot(lengths, deflections, label=f\"Load = {load} N\")  \n",
    "\n",
    "plt.title(\"Beam Deflection vs Length for Different Loads\")\n",
    "plt.xlabel(\"Beam Length (m)\")\n",
    "plt.ylabel(\"Deflection (m)\")\n",
    "plt.legend()\n",
    "plt.grid(True)\n",
    "plt.show()"
   ]
  },
  {
   "cell_type": "code",
   "execution_count": null,
   "id": "dd6505d7-3413-42ca-938f-f93519bb6d39",
   "metadata": {},
   "outputs": [],
   "source": []
  },
  {
   "cell_type": "code",
   "execution_count": null,
   "id": "97533e94-1bf3-493c-ac2d-20a721fa34da",
   "metadata": {},
   "outputs": [],
   "source": []
  },
  {
   "cell_type": "markdown",
   "id": "bb1c367e-cbc8-4073-bcde-d58a416bc267",
   "metadata": {},
   "source": [
    "## Corrected Code "
   ]
  },
  {
   "cell_type": "code",
   "execution_count": 48,
   "id": "69fcc74f-3cfa-4656-8ad7-e5a3a90648bc",
   "metadata": {},
   "outputs": [
    {
     "name": "stdout",
     "output_type": "stream",
     "text": [
      "The deflection at the center of the beam is: 0.021164021164021163 meters\n"
     ]
    },
    {
     "data": {
      "image/png": "[encoded data removed]",
      "text/plain": [
       "<Figure size 800x600 with 1 Axes>"
      ]
     },
     "metadata": {},
     "output_type": "display_data"
    }
   ],
   "source": [
    "# Mechanics of Materials: Beam Deflection Calculation\n",
    "\n",
    "# Importing necessary libraries\n",
    "import numpy as np\n",
    "import matplotlib.pyplot as plt\n",
    "\n",
    "# Defining the deflection function for a simply supported beam with a central load\n",
    "def beam_deflection(length, load, modulus, moment_of_inertia):  # Fixed the missing :\n",
    "    \"\"\"\n",
    "    This function calculates the deflection at the center of a simply supported beam\n",
    "    subjected to a central point load using the formula:\n",
    "    deflection = (load * length^3) / (48 * modulus * moment_of_inertia)\n",
    "    \n",
    "    Parameters:\n",
    "    length (float): Length of the beam (m)\n",
    "    load (float): Central load applied (N)\n",
    "    modulus (float): Young's Modulus of the material (Pa)\n",
    "    moment_of_inertia (float): Moment of inertia of the beam cross-section (m^4)\n",
    "    \n",
    "    Returns:\n",
    "    float: Deflection at the center of the beam (m)\n",
    "    \"\"\"\n",
    "    return (load * length ** 3) / (48 * modulus * moment_of_inertia)  # Fixed the missing )\n",
    "\n",
    "# Example values (these might not be realistic, just for demonstration)\n",
    "length = 4.0  # Length of the beam in meters\n",
    "load = 5000    # Load applied in Newtons\n",
    "modulus = 2.1e11  # Young's modulus in Pascals (steel)\n",
    "moment_of_inertia = 1.5e-6  # Moment of inertia in m^4\n",
    "\n",
    "# Calculate deflection\n",
    "deflection = beam_deflection(length, load, modulus, moment_of_inertia)\n",
    "print(f\"The deflection at the center of the beam is: {deflection} meters\")\n",
    "\n",
    "# Correcting the typo in variable name (lengths instead of lenghts)\n",
    "lengths = np.linspace(1, 10, 10)  # Lengths from 1 to 10 meters\n",
    "\n",
    "# Now we calculate deflections for each length properly\n",
    "deflections = [beam_deflection(l, load, modulus, moment_of_inertia) for l in lengths]  # Fixed the typo in lengths\n",
    "\n",
    "# Plotting the deflection as a function of length for different loads\n",
    "loads = np.array([5000, 10000, 15000, 20000])  # Different load values\n",
    "\n",
    "plt.figure(figsize=(8, 6))\n",
    "for load in loads:\n",
    "    # Recalculating deflections for each load in the loop\n",
    "    deflections = [beam_deflection(l, load, modulus, moment_of_inertia) for l in lengths]  # Mistake: This should be inside a loop for each load ## Corrected logic to recalculate deflection for each load\n",
    "    \n",
    "    # Now plotting the deflection for each load\n",
    "    plt.plot(lengths, deflections, label=f\"Load = {load} N\")\n",
    "\n",
    "plt.title(\"Beam Deflection vs Length for Different Loads\")\n",
    "plt.xlabel(\"Beam Length (m)\")\n",
    "plt.ylabel(\"Deflection (m)\")\n",
    "plt.legend()\n",
    "plt.grid(True)\n",
    "plt.show()"
   ]
  },
  {
   "cell_type": "code",
   "execution_count": null,
   "id": "9d1f9b13-8cee-4118-b1cf-690f65ac46ed",
   "metadata": {},
   "outputs": [],
   "source": []
  }
 ],
 "metadata": {
  "kernelspec": {
   "display_name": "Python 3 (ipykernel)",
   "language": "python",
   "name": "python3"
  },
  "language_info": {
   "codemirror_mode": {
    "name": "ipython",
    "version": 3
   },
   "file_extension": ".py",
   "mimetype": "text/x-python",
   "name": "python",
   "nbconvert_exporter": "python",
   "pygments_lexer": "ipython3",
   "version": "3.11.9"
  }
 },
 "nbformat": 4,
 "nbformat_minor": 5
}
