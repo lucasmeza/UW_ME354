{
 "cells": [
  {
   "cell_type": "markdown",
   "metadata": {},
   "source": [
    "# Torsion Lab Analysis Code ヽ(^o^)丿"
   ]
  },
  {
   "cell_type": "markdown",
   "metadata": {},
   "source": [
    "## Define Dimension and Material Properties"
   ]
  },
  {
   "cell_type": "code",
   "execution_count": null,
   "metadata": {},
   "outputs": [],
   "source": [
    "from math import pi\n",
    "\n",
    "#Specimen Dimensions\n",
    "L = ##Input the bar length from the lab manual##  # Length of Bar [m]\n",
    "R = ##Input the bar radius from the lab manual##  # Radius of the Bar [m]\n",
    "J = ##Calculate the polar 2nd moment of area## #Polar 2nd moment of area [m^4]\n",
    "\n",
    "#Tensile Properties\n",
    "E = ##Input the Young's modulus from the tension lab##  # Young's Modulus [Pa]\n",
    "nu = ##Input the Poisson's ratio from the tension lab## # Poisson's ratio\n",
    "s_y = ##Input the yield strength from the tension lab## # Yield Strength [Pa]\n",
    "\n",
    "#Shear Properties\n",
    "G_th = E/2/(1+nu)  # Theoretical Shear Modulus [Pa]\n",
    "tau_y = s_y/(3**0.5)   # Yield Shear Stress [Pa]\n",
    "\n",
    "#Exponential Hardening Properties\n",
    "H = ##Input the H from the lab manual or your own fit to the tension data##  # Hardening coefficient [Pa]\n",
    "n = ##Input the n from the lab manual or your own fit to the tension data## # Hardening exponent"
   ]
  },
  {
   "cell_type": "markdown",
   "metadata": {},
   "source": [
    "## Plot experiment results of Torque vs Angle"
   ]
  },
  {
   "cell_type": "markdown",
   "metadata": {},
   "source": [
    "### The data is stored in excel sheets\n",
    "### Here we will extract it"
   ]
  },
  {
   "cell_type": "code",
   "execution_count": null,
   "metadata": {},
   "outputs": [],
   "source": [
    "import pandas as pd #remember that this is the data processing library\n",
    "\n",
    "#File with all the data\n",
    "dataFile = 'Torsion data Aut2020.xlsx'\n",
    "\n",
    "#Import the Steel Data\n",
    "Steel1 = pd.read_excel(dataFile,header = 3,sheet_name = 'Data 1',usecols = [0,1])\n",
    "Steel2 = pd.read_excel(dataFile,header = 3,sheet_name = 'Data 2',usecols = [0,1])\n",
    "\n",
    "#Import the Aluminum Data\n",
    "Aluminum1 = pd.read_excel(dataFile,header = 3,sheet_name = 'Data 1',usecols = [3,4])\n",
    "Aluminum2 = pd.read_excel(dataFile,header = 3,sheet_name = 'Data 2',usecols = [3,4])\n",
    "\n",
    "#Fix some weird stuff with the aluminum import\n",
    "Aluminum1.columns = Steel1.columns #Rename the columns \n",
    "Aluminum1 = Aluminum1.dropna() #Drop NaN values\n",
    "Aluminum2.columns = Steel2.columns #Rename the columns\n",
    "Aluminum2 = Aluminum2.dropna() #Drop NaN values"
   ]
  },
  {
   "cell_type": "markdown",
   "metadata": {},
   "source": [
    "### Now we can process it\n",
    "### We will show the process for one of the steel data sets"
   ]
  },
  {
   "cell_type": "code",
   "execution_count": null,
   "metadata": {},
   "outputs": [],
   "source": [
    "from math import pi\n",
    "\n",
    "#Convert the angles to radians\n",
    "Steel1['Angle (rad)'] = Steel1['Angle (deg)']*pi/180 #(rad)\n",
    "\n",
    "#Convert the measured force to torque\n",
    "SteelTorque1 = ##Calculate the torque based on a moment balance for the loading setup##  #(N.m)"
   ]
  },
  {
   "cell_type": "markdown",
   "metadata": {},
   "source": [
    "### Plot the Results"
   ]
  },
  {
   "cell_type": "code",
   "execution_count": null,
   "metadata": {},
   "outputs": [],
   "source": [
    "import matplotlib.pyplot as plt #Matlab-esque plotting library\n",
    "\n",
    "#Plot the experimental torque vs twist angle\n",
    "plt.figure(figsize = (12,8))\n",
    "plt.plot(Steel1['Angle (rad)'],Steel1['Torque (Nm)'],'.-',label = 'A36 Steel 1')\n",
    "plt.xlabel('Twist Angle (rad) ',fontsize = 16)\n",
    "plt.ylabel('Torque (Nm)',fontsize = 16)\n",
    "plt.title('Torque vs Twist Angle', fontsize = 20)\n",
    "plt.legend();"
   ]
  },
  {
   "cell_type": "markdown",
   "metadata": {},
   "source": [
    "### Here are some useful functions to calculate the shear modulus from the data"
   ]
  },
  {
   "cell_type": "code",
   "execution_count": null,
   "metadata": {},
   "outputs": [],
   "source": [
    "from scipy.stats import linregress #This is a linear regression function built into the Scipy library. \n",
    "#You can call help(linregress) if you'd like to learn more. Or check out https://docs.scipy.org/doc/scipy/reference/generated/scipy.stats.linregress.html\n",
    "\n",
    "def maxShearStress(torque,R,J):\n",
    "    tauMax = ##equation for the max shear stress based on the torque in the elastic region##\n",
    "    return tauMax\n",
    "\n",
    "def maxShearStrain(twist,R,L):\n",
    "    gammaMax = ##equation for the max shear strain based on the twist in the elastic region##\n",
    "    return gammaMax\n",
    "\n",
    "def shearModulusFit(twist,torque,R,L,J,a,b):\n",
    "    '''This is a linear fit to data between the data indices for a and b. Note, this will\n",
    "    return an error if a or b are outside the length of Strain and Stress.'''\n",
    "    \n",
    "    #Find shear stress and shear strain\n",
    "    shearStrain = [maxShearStrain(x,R,L) for x in twist[a:b]]\n",
    "    shearStress = [maxShearStress(x,R,J) for x in torque[a:b]]\n",
    "    \n",
    "    #Fit the modulus\n",
    "    G,C,r,P,Err = linregress(shearStrain,shearStress) #The data outputs the slope (G), intercept (C), regression (r) value, P-value and standard error\n",
    "    #Note: Python lets you save multivariable outputs with a comma, i.e. a,b=[1,2] will give a=1 and b=2\n",
    "    \n",
    "    #Make a line for the fit data\n",
    "    Y = [0.0, max(shearStress)] #this is a list of length 2 for plotting the fit data later\n",
    "    X = [(y-C)/G for y in Y] #these are points that you can plot to visualize the data being fit, inverted from y=G*x+C, x=(y-C)/G\n",
    "    return G,C,r,X,Y"
   ]
  },
  {
   "cell_type": "markdown",
   "metadata": {},
   "source": [
    "### Find the shear modulus from the torsion experiment\n",
    "### Then compare it with the theoretical shear modulus from the stiffness obtained in the tension lab"
   ]
  },
  {
   "cell_type": "code",
   "execution_count": null,
   "metadata": {},
   "outputs": [],
   "source": [
    "import matplotlib.pyplot as plt #Matlab-esque plotting library\n",
    "\n",
    "#Fit to the loading data\n",
    "a = 0\n",
    "b = 12\n",
    "G,C,r,X,Y = shearModulusFit(Steel1['Angle (rad)'].values,Steel1['Torque (Nm)'].values,R,L,J,a,b)\n",
    "\n",
    "#Find the max shear stress and strain from elastic analysis\n",
    "shearStrain = [maxShearStrain(x,R,L) for x in Steel1['Angle (rad)'][a:b]]\n",
    "shearStress = [maxShearStress(x,R,J) for x in Steel1['Torque (Nm)'][a:b]]\n",
    "\n",
    "#Plot the max shear stress and strain and fit\n",
    "plt.figure(figsize = (12,8))\n",
    "plt.plot(shearStrain,shearStress,'.-',label = 'A36 Steel 1')\n",
    "plt.plot(X,Y,'--',label = 'Modulus Fit G='+str(round(G*1e-9,2))+'GPa')\n",
    "plt.xlabel('Max Shear Strain',fontsize = 16)\n",
    "plt.ylabel('Max Shear Stress (Pa)',fontsize = 16)\n",
    "plt.legend();"
   ]
  },
  {
   "cell_type": "markdown",
   "metadata": {},
   "source": [
    "### Find the Yield Radius for every applied twist\n",
    "### Remember that this is a theoretical calculation using the material properties obtained in the tension lab\n",
    "### The big goal here is to compare theoretical plasticity predictions to experimental results"
   ]
  },
  {
   "cell_type": "code",
   "execution_count": null,
   "metadata": {},
   "outputs": [],
   "source": [
    "#Calculate the yield radius\n",
    "Steel1['Theoretical Yield Radius (m)'] = ##equation for yield radius, hint: use Data['Angle (rad)'] in the calculation##\n",
    "print(tau_y,L,G_th)\n",
    "#Plot it to visualize\n",
    "plt.figure(figsize = (12,8))\n",
    "plt.plot(Steel1['Angle (rad)'],Steel1['Theoretical Yield Radius (m)'],label = 'Yield Radius')\n",
    "plt.plot(Steel1['Angle (rad)'],[R]*len(Steel1),label='Bar Radius')\n",
    "plt.ylim(-0.0002,0.003)\n",
    "plt.xlabel('Twist Angle(radian) ',fontsize = 16)\n",
    "plt.ylabel('Radius',fontsize = 16)\n",
    "plt.title('Yield Radius vs Twist Angle', fontsize = 20)\n",
    "plt.legend();"
   ]
  },
  {
   "cell_type": "markdown",
   "metadata": {},
   "source": [
    "## Calculate the theoretical torque from the analytical plasticity model\n",
    "### Reminder, the bar is theoretically still elastic when the yield radius is larger than the bar radius\n",
    "### The bar becomes plastic when the yield radius is smaller than the bar radius"
   ]
  },
  {
   "cell_type": "code",
   "execution_count": null,
   "metadata": {},
   "outputs": [],
   "source": [
    "from math import pi\n",
    "\n",
    "# Finish these functions for the elastic and plastic components of torque\n",
    "def elasticTorque(r_y,tau_y,G,L,R,theta):\n",
    "    if r_y > R:\n",
    "        T_Elastic = ##Include the equation for the elastic torque when the bar is fully elastic##\n",
    "    else:\n",
    "        T_Elastic = ##Include the equation for the elastic torque when the bar is plastically deforming##\n",
    "    return T_Elastic\n",
    "\n",
    "def plasticTorque(r_y,H,n,L,R,theta):\n",
    "    if r_y > R:\n",
    "        T_Plastic =  ##Include the equation for the plastic torque when the bar is fully elastic##\n",
    "    else:\n",
    "        T_Plastic = ##Include the equation for the plastic torque when the bar is plastically deforming##\n",
    "    return T_Plastic\n",
    "\n",
    "def elasticPlasticTorque(r_y,tau_y,H,n,G,L,R,theta):\n",
    "    T = elasticTorque(r_y,tau_y,G,L,R,theta) + plasticTorque(r_y,H,n,L,R,theta)\n",
    "    return T"
   ]
  },
  {
   "cell_type": "markdown",
   "metadata": {},
   "source": [
    "### Now let's calculate the theoretical torque for everything"
   ]
  },
  {
   "cell_type": "code",
   "execution_count": null,
   "metadata": {},
   "outputs": [],
   "source": [
    "#Initialize some empty variables\n",
    "eTorque = []\n",
    "pTorque = []\n",
    "theoreticalTorque = []\n",
    "\n",
    "for i in range(len(Steel1)):\n",
    "    #Create dummy variables to make the code look cleaner\n",
    "    r_y = Steel1['Theoretical Yield Radius (m)'].values[i]\n",
    "    theta = Steel1['Angle (rad)'].values[i]\n",
    "    \n",
    "    #Run the functions we defined above\n",
    "    eTorque += [elasticTorque(r_y,tau_y,G_th,L,R,theta)] #The += here is adding values to the list, e.g. a=[1]; a+=[2] -> a=[1,2]\n",
    "    pTorque += [plasticTorque(r_y,H,n,L,R,theta)]\n",
    "    theoreticalTorque += [elasticPlasticTorque(r_y,tau_y,H,n,G_th,L,R,theta)]\n",
    "\n",
    "#And include the values in a Pandas dataframe\n",
    "Steel1['Theoretical Elastic Torque (Nm)'] = eTorque\n",
    "Steel1['Theoretical Plastic Torque (Nm)'] = pTorque\n",
    "Steel1['Theoretical Torque (Nm)'] = theoreticalTorque"
   ]
  },
  {
   "cell_type": "markdown",
   "metadata": {},
   "source": [
    "### As a brief aside, lets see what we've calculated for the material so far"
   ]
  },
  {
   "cell_type": "code",
   "execution_count": null,
   "metadata": {},
   "outputs": [],
   "source": [
    "#Calling the Pandas dataframe will output the results\n",
    "Steel1"
   ]
  },
  {
   "cell_type": "markdown",
   "metadata": {},
   "source": [
    "## Now we can plot the theoretical vs experimental torque!\n",
    "### We'll also make a plot to see the difference between the theoretical elastic and plastic torque\n",
    "*Notes:*\n",
    "- The data for the steel will likely give you strange results if you use the values provided in the manual, please look for an update on Canvas with updated properties.\n",
    "- These fits are theoretical predictions using an exponential plasticity model. Part of what we're trying to see is how well we can use that theory to fit to real data."
   ]
  },
  {
   "cell_type": "code",
   "execution_count": null,
   "metadata": {},
   "outputs": [],
   "source": [
    "#Call the plot to make a new figure for the experimental vs theoretical torque v twist\n",
    "plt.figure(figsize = (12,8))\n",
    "plt.plot(Steel1['Angle (rad)'],Steel1['Torque (Nm)'],'.-',label = 'Experiment')\n",
    "plt.plot(Steel1['Angle (rad)'],Steel1['Theoretical Torque (Nm)'],label = 'Theory')\n",
    "plt.xlabel('Twist Angle(rad) ',fontsize = 16)\n",
    "plt.ylabel('Torque(Nm)',fontsize = 16)\n",
    "plt.title('Theoretical vs Experimental Torque',fontsize=20)\n",
    "plt.legend();\n",
    "\n",
    "#Call a new plot to make a figure for the theoretical elastic vs plastic contribution to torque\n",
    "plt.figure(figsize = (12,8))\n",
    "plt.plot(Steel1['Angle (rad)'],Steel1['Theoretical Elastic Torque (Nm)'],label = 'Elastic Torque')\n",
    "plt.plot(Steel1['Angle (rad)'],Steel1['Theoretical Plastic Torque (Nm)'],label = 'Plastic Torque')\n",
    "plt.xlabel('Twist Angle(rad) ',fontsize = 16)\n",
    "plt.ylabel('Torque(Nm)',fontsize = 16)\n",
    "plt.title('Elastic vs Plastic Torque Components',fontsize=20)\n",
    "plt.xlim([0,10]); #We'll zoom in on the twist here to get a closer look at the elastic component\n",
    "plt.legend();\n"
   ]
  },
  {
   "cell_type": "markdown",
   "metadata": {},
   "source": [
    "## Sensitivity Analysis of Hardening Coefficients\n",
    "### Now we want to see how some variability in the coefficients affects the theoretical fit"
   ]
  },
  {
   "cell_type": "code",
   "execution_count": null,
   "metadata": {},
   "outputs": [],
   "source": [
    "#Try increasing or decreasing the values of H and n to see what effect they have\n",
    "H = H*1.05; n = n*0.9  # for example\n",
    "\n",
    "#Then we rerun the theoretical torque calculation from before\n",
    "#Initialize some empty variables\n",
    "theoreticalTorque2 = []\n",
    "\n",
    "for i in range(len(Steel1)):\n",
    "    #Create dummy variables to make the code look cleaner\n",
    "    r_y = Steel1['Theoretical Yield Radius (m)'].values[i]\n",
    "    theta = Steel1['Angle (rad)'].values[i]\n",
    "    \n",
    "    #Run the functions we defined above\n",
    "    theoreticalTorque2 += [elasticPlasticTorque(r_y,tau_y,H,n,G,L,R,theta)]\n",
    "\n",
    "#And include the values in a Pandas dataframe\n",
    "Steel1['Theoretical Torque 2 (Nm)'] = theoreticalTorque"
   ]
  },
  {
   "cell_type": "markdown",
   "metadata": {},
   "source": [
    "### You can then adjust H and n and **plot the results together** with clear label of how you are changing the coefficient"
   ]
  },
  {
   "cell_type": "markdown",
   "metadata": {},
   "source": [
    "## Hardening Fit\n",
    "### If you want to do a fit to the hardening data, take the tension data and look at log fitting the plastic yield\n",
    "#### We will not be giving you code here because this is extra credit\n",
    "#### Here's a quick rundown of the process:\n",
    "- Plot the loglog of the stress-strain data for the aluminum or steel\n",
    "- Plot a marker for the yield point and the ultimate stress\n",
    "- Determine a suitable \"linear\" region in that data to fit a hardening slope to\n",
    "- Take a linear fit of the log of the stress and strain for that section of the data (s = H.e^n, log(s)=log(H)+n.log(e))\n",
    "- Plot that fit in loglog space to be sure it's adequately capturing the \"linear\" region of the data"
   ]
  },
  {
   "cell_type": "code",
   "execution_count": null,
   "metadata": {},
   "outputs": [],
   "source": []
  }
 ],
 "metadata": {
  "kernelspec": {
   "display_name": "Python 3",
   "language": "python",
   "name": "python3"
  },
  "language_info": {
   "codemirror_mode": {
    "name": "ipython",
    "version": 3
   },
   "file_extension": ".py",
   "mimetype": "text/x-python",
   "name": "python",
   "nbconvert_exporter": "python",
   "pygments_lexer": "ipython3",
   "version": "3.7.4"
  }
 },
 "nbformat": 4,
 "nbformat_minor": 4
}
