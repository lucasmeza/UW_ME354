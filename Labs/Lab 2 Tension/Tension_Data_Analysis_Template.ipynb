{
 "cells": [
  {
   "cell_type": "markdown",
   "metadata": {},
   "source": [
    "# Tension Lab Analysis Code ヽ(•‿•)ノ"
   ]
  },
  {
   "cell_type": "markdown",
   "metadata": {},
   "source": [
    "## Get All The File Names"
   ]
  },
  {
   "cell_type": "code",
   "execution_count": null,
   "metadata": {},
   "outputs": [],
   "source": [
    "from os import listdir\n",
    "listdir() #this is everything in the current folder"
   ]
  },
  {
   "cell_type": "code",
   "execution_count": null,
   "metadata": {},
   "outputs": [],
   "source": [
    "Files = [x for x in listdir() if '.csv' in x] #this is a list comprehension that finds all the current folder files that contain '.csv'\n",
    "print(Files)\n",
    "Files = [x for x in listdir() if '.csv' in x and 'Raw' in x] #replace 'Raw' with something for a given type of sample, for example 'Al'\n",
    "print(Files)"
   ]
  },
  {
   "cell_type": "markdown",
   "metadata": {},
   "source": [
    "## Define The Sample Parameters\n",
    "#### You will need to change these for every sample type"
   ]
  },
  {
   "cell_type": "code",
   "execution_count": null,
   "metadata": {},
   "outputs": [],
   "source": [
    "thickness = 6.2 # Input thickness in mm\n",
    "width = 12.3 # Input Width in mm\n",
    "Area = thickness*width #in mm^2\n",
    "print(\"Area =\", Area, \"mm^2\" )"
   ]
  },
  {
   "cell_type": "markdown",
   "metadata": {},
   "source": [
    "## Read One File\n",
    "#### We will be using Pandas as our data analysis library"
   ]
  },
  {
   "cell_type": "code",
   "execution_count": null,
   "metadata": {},
   "outputs": [],
   "source": [
    "import pandas as pd #this imports the pandas data analysis library\n",
    "Data0 = pd.read_csv(Files[0]) #this function reads the .csv file"
   ]
  },
  {
   "cell_type": "markdown",
   "metadata": {},
   "source": [
    "#### It pulls in all the CSV data from the files that we provided and stores it in a convenient format"
   ]
  },
  {
   "cell_type": "code",
   "execution_count": null,
   "metadata": {},
   "outputs": [],
   "source": [
    "Data0.head() #run this to output the first 5 lines of data stored for Files[0]"
   ]
  },
  {
   "cell_type": "markdown",
   "metadata": {},
   "source": [
    "## Read All The Files"
   ]
  },
  {
   "cell_type": "code",
   "execution_count": null,
   "metadata": {},
   "outputs": [],
   "source": [
    "import pandas as pd #pandas is the data analysis library\n",
    "Data = {x:{} for x in Files} #This is a list comprehension that creates an empty dictionary for all the file data.\n",
    "                             #It allows all the data to be stored in one place.\n",
    "for File in Files:\n",
    "    Data[File] = pd.read_csv(File) #this stores the data for each file in Data[File], where 'File' is the name of the file"
   ]
  },
  {
   "cell_type": "markdown",
   "metadata": {},
   "source": [
    "### Check what's in the files"
   ]
  },
  {
   "cell_type": "code",
   "execution_count": null,
   "metadata": {},
   "outputs": [],
   "source": [
    "Data[Files[0]].head() #run this to output the first 5 lines of data stored for the first file (Files[0])"
   ]
  },
  {
   "cell_type": "code",
   "execution_count": null,
   "metadata": {},
   "outputs": [],
   "source": [
    "Data[Files[0]].tail() #run this to output the last 5 lines of data stored for the first file (Files[0])"
   ]
  },
  {
   "cell_type": "markdown",
   "metadata": {},
   "source": [
    "#### \"Wait\", you might say, \"I don't know how any of these functions work!\"\n",
    "#### That's okay, there's a help function :)\n",
    "*Note: you can right click and clear the output if it takes up too much space*"
   ]
  },
  {
   "cell_type": "code",
   "execution_count": null,
   "metadata": {},
   "outputs": [],
   "source": [
    "#help(pd.read_csv)"
   ]
  },
  {
   "cell_type": "markdown",
   "metadata": {},
   "source": [
    "## Add Extra Columns to the Data\n",
    "#### As was shown in intro to data analysis video, we can directly add things to a pandas data type\n",
    "#### All you need to do it take your dictionary and set dictName['new item']= *something*"
   ]
  },
  {
   "cell_type": "code",
   "execution_count": null,
   "metadata": {},
   "outputs": [],
   "source": [
    "for File in Files:\n",
    "    emptyList = [[]]*len(Data[File].index) #This is an empty list with the same length as the data file\n",
    "    #Note, when you multiply Python lists it just copies the list, e.g. [[1]]*3=[[1],[1],[1]]\n",
    "    \n",
    "    #Here's some example new dictionary calculations\n",
    "    Data[File]['Strain (mm/mm)'] = Data[File]['Axial Strain (mm/mm)'] #this adds another strain column to the data\n",
    "    Data[File]['Stress (MPa)'] = Data[File]['Load (N)']/Area #this adds stress to the data\n",
    "    \n",
    "    #You'll need to do calculations here\n",
    "    Data[File]['Instantaneous Area (mm^2)'] = emptyList #Calculate the instantaneous area using the original dimensions and the transverse strain\n",
    "    Data[File]['True Stress (MPa)'] = emptyList #Add in the true stress here\n",
    "    Data[File]['True Strain (mm/mm)'] = emptyList #Add in the true strain here,\n",
    "Data[Files[0]].head()"
   ]
  },
  {
   "cell_type": "markdown",
   "metadata": {},
   "source": [
    "## Plot All The Data"
   ]
  },
  {
   "cell_type": "code",
   "execution_count": null,
   "metadata": {},
   "outputs": [],
   "source": [
    "import matplotlib.pyplot as plt #matlab-esque plotting library\n",
    "fig = plt.figure()\n",
    "ax = fig.gca()\n",
    "for File in Files:\n",
    "    ax.plot(Data[File]['Strain (mm/mm)'],Data[File]['Stress (MPa)'],label=File) #the label corresponds to what the legend will output\n",
    "ax.set_xlim(left = 0)\n",
    "ax.set_ylim(bottom = 0)\n",
    "plt.title(\"Engineering Stress vs Strain\")\n",
    "plt.ylabel('Stress (MPa)')\n",
    "plt.xlabel('Strain (mm/mm)')\n",
    "plt.legend() #this turns the legend on, you can manually change entries using legend(['Sample 1', 'Sample 2',...])\n",
    "plt.show()"
   ]
  },
  {
   "cell_type": "code",
   "execution_count": null,
   "metadata": {},
   "outputs": [],
   "source": [
    "###Copy and modify the code above to create a plot for true stress and true strain###"
   ]
  },
  {
   "cell_type": "markdown",
   "metadata": {},
   "source": [
    "## Young's Modulus Calculation \n",
    "#### We want to find the Young's modulus, i.e. the slope of stress vs strain in elastic region.\n",
    "#### There are a few different ways to do this calculation, but the trick is defining the \"elastic region\".\n",
    "#### You can define that region manually, or write a function that finds it for you.\n",
    "#### This calculation is very nuanced and can change for different tests on different materials."
   ]
  },
  {
   "cell_type": "code",
   "execution_count": null,
   "metadata": {},
   "outputs": [],
   "source": [
    "#Here we will make a subplot to show a zoomed section\n",
    "eZoom = 0.01; sZoom = 350\n",
    "fig, (ax1, ax2) = plt.subplots(1, 2, figsize=(10,5))\n",
    "for File in Files:\n",
    "    ax1.plot(Data[File]['Strain (mm/mm)'],Data[File]['Stress (MPa)'],label=File)\n",
    "    ax2.plot(Data[File]['Strain (mm/mm)'],Data[File]['Stress (MPa)'],label=File)\n",
    "\n",
    "#Plot the zoomed box\n",
    "ax1.plot([0,0,eZoom,eZoom,0],[0,sZoom,sZoom,0,0],'r--')\n",
    "\n",
    "#Add Labels\n",
    "ax1.set_xlim(left=0)\n",
    "ax1.set_ylim(bottom=0)\n",
    "ax2.set_xlim(left = 0, right=eZoom)\n",
    "ax2.set_ylim(bottom = 0, top=sZoom)\n",
    "ax1.set_title(\"Engineering Stress vs Strain\")\n",
    "ax2.set_title(\"Engineering Stress vs Strain Magnified\")\n",
    "ax1.set_ylabel('Stress (MPa)')\n",
    "ax2.set_ylabel('Stress (MPa)')\n",
    "ax1.set_xlabel('Strain (mm/mm)')\n",
    "ax2.set_xlabel('Strain (mm/mm)')\n",
    "ax1.legend()\n",
    "ax2.legend()\n",
    "plt.show()"
   ]
  },
  {
   "cell_type": "markdown",
   "metadata": {},
   "source": [
    "### Modulus Fit\n",
    "#### Here, we will only use the manual method of defining two indices for which to fit the data"
   ]
  },
  {
   "cell_type": "code",
   "execution_count": null,
   "metadata": {},
   "outputs": [],
   "source": [
    "from scipy.stats import linregress #This is a linear regression function built into the Scipy library. \n",
    "#You can call help(linregress) if you'd like to learn more. Or check out https://docs.scipy.org/doc/scipy/reference/generated/scipy.stats.linregress.html\n",
    "\n",
    "def modulusFit(Strain,Stress,a,b):\n",
    "    '''This is a linear fit to data between the data indices for a and b. Note, this will\n",
    "    return an error if a or b are outside the length of Strain and Stress.'''\n",
    "    \n",
    "    #Fit the modulus\n",
    "    E,C,R,P,Err = linregress(Strain[a:b],Stress[a:b]) #The data outputs the slope (E), intercept (C), regression (R) value, P-value and standard error\n",
    "    #Note: Python lets you save multivariable outputs with a comma, i.e. a,b=[1,2] will give a=1 and b=2\n",
    "    \n",
    "    #Make a line for the fit data\n",
    "    Y = [0.0, max(Stress)] #this is a list of length 2 for plotting the fit data later\n",
    "    X = [(y-C)/E for y in Y] #these are points that you can plot to visualize the data being fit, inverted from y=E*x+C, x=(y-C)/E\n",
    "    return E,C,R,X,Y"
   ]
  },
  {
   "cell_type": "markdown",
   "metadata": {},
   "source": [
    "### Check how the fit works"
   ]
  },
  {
   "cell_type": "code",
   "execution_count": null,
   "metadata": {},
   "outputs": [],
   "source": [
    "fig = plt.figure(3)\n",
    "ax = fig.gca()\n",
    "\n",
    "#We'll test out two fit points and see the difference\n",
    "a1 = 5; b1 = 100\n",
    "a2 = 20; b2 = 150\n",
    "for File in Files:\n",
    "    #Save dummy variables to make the code cleaner below\n",
    "    strain = Data[File]['Strain (mm/mm)'].values\n",
    "    stress = Data[File]['Stress (MPa)'].values\n",
    "    \n",
    "    #Use the two fits\n",
    "    E1,C1,R1,X1,Y1 = modulusFit(strain,stress,a1,b1)\n",
    "    E2,C2,R2,X2,Y2 = modulusFit(strain,stress,a2,b2)\n",
    "    \n",
    "    #Plot the data\n",
    "    ax.plot(strain,stress)\n",
    "    ax.plot(strain[a1],stress[a1],'rd') #This is the first point we're fitting from \n",
    "    ax.plot(strain[b1],stress[b1],'rs') #this is the last point we're fitting to\n",
    "#     ax.plot(strain[a1:b1],stress[a1:b1],'r.') #this will show all the data we're fitting\n",
    "    ax.plot(strain[a2],stress[a2],'bd')\n",
    "    ax.plot(strain[b2],stress[b2],'bs')\n",
    "#     ax.plot(strain[a2:b2],stress[a2:b2],'b.') #this will show all the data we're fitting\n",
    "    \n",
    "    #Plot the fits\n",
    "    ax.plot(X1,Y1,label='Fit1, E='+str(round(E1*1e-3,1))+' GPa')\n",
    "    ax.plot(X2,Y2,label='Fit2, E='+str(round(E2*1e-3,1))+' GPa')\n",
    "\n",
    "ax.set_xlim(left = 0, right=0.004)\n",
    "ax.set_ylim(bottom = 0, top=400)\n",
    "plt.title(\"Modulus Fit\")\n",
    "plt.ylabel('Stress (MPa)')\n",
    "plt.xlabel('Strain (mm/mm)')\n",
    "plt.legend()\n",
    "plt.show()"
   ]
  },
  {
   "cell_type": "markdown",
   "metadata": {},
   "source": [
    "#### You can see that slightly different 'linear regions' for measuring the slope can produce noticeably different results"
   ]
  },
  {
   "cell_type": "markdown",
   "metadata": {},
   "source": [
    "#### Once you have found good fitting points, you will need to save these results and average them for all the data"
   ]
  },
  {
   "cell_type": "code",
   "execution_count": null,
   "metadata": {},
   "outputs": [],
   "source": [
    "#a = ?\n",
    "#b = ?\n",
    "youngsModuli = []\n",
    "ER2Values = []\n",
    "for File in Files:\n",
    "    #Save dummy variables to make the code cleaner below\n",
    "    strain = Data[File]['Strain (mm/mm)'].values\n",
    "    stress = Data[File]['Stress (MPa)'].values\n",
    "    \n",
    "    #Use the two fits\n",
    "    #E,C,R,X,Y = modulusFit(strain,stress,a,b)\n",
    "    \n",
    "    #youngsModuli += [E]\n",
    "    #ER2Values += [R**2]"
   ]
  },
  {
   "cell_type": "markdown",
   "metadata": {},
   "source": [
    "#### Once you get all the values, you can find an average of the data"
   ]
  },
  {
   "cell_type": "code",
   "execution_count": null,
   "metadata": {},
   "outputs": [],
   "source": [
    "from numpy import mean,std \n",
    "#You can call the mean and std (standard deviation) for your Young's Moduli values"
   ]
  },
  {
   "cell_type": "markdown",
   "metadata": {},
   "source": [
    "## Poisson's Ratio Calculation\n",
    "#### We need to measure the slope of the axial vs transverse strain to find the Poisson's ratio\n",
    "#### We know that this is only valid in the linear elastic region, and we can use the same strain range from the modulus fit"
   ]
  },
  {
   "cell_type": "code",
   "execution_count": null,
   "metadata": {},
   "outputs": [],
   "source": [
    "#Here we will make a subplot to show a zoomed section\n",
    "eZoom = 0.01; aZoom = 0.002\n",
    "fig, (ax1, ax2) = plt.subplots(1, 2, figsize=(14,7))\n",
    "for File in Files:\n",
    "    ax1.plot(Data[File]['Axial Strain (mm/mm)'],Data[File]['Transverse Strain (mm/mm)'],label=File)\n",
    "    ax2.plot(Data[File]['Axial Strain (mm/mm)'],Data[File]['Transverse Strain (mm/mm)'],label=File)\n",
    "\n",
    "#Plot the zoomed box\n",
    "ax1.plot([0,0,eZoom,eZoom,0],[0,aZoom,aZoom,0,0],'r--')\n",
    "\n",
    "#Add Labels\n",
    "ax1.set_xlim(left=0)\n",
    "ax1.set_ylim(bottom=0)\n",
    "ax2.set_xlim(left = 0, right=eZoom)\n",
    "ax2.set_ylim(bottom = 0, top=aZoom)\n",
    "ax1.set_title(\"Axial Stress vs Transverse Strain\")\n",
    "ax2.set_title(\"Axial Stress vs Transverse Strain Magnified\")\n",
    "ax1.set_xlabel('Axial Strain (mm/mm)')\n",
    "ax2.set_xlabel('Axial Strain (mm/mm)')\n",
    "ax1.set_ylabel('Transverse Strain (mm/mm)')\n",
    "ax2.set_ylabel('Transverse Strain (mm/mm)')\n",
    "ax1.legend()\n",
    "ax2.legend()\n",
    "plt.show()"
   ]
  },
  {
   "cell_type": "markdown",
   "metadata": {},
   "source": [
    "#### We can define the same sort of slope fit function for Poisson's ratio \n",
    "#### We could also reuse the modulus fit funciton above, but we'll redefine it here with different variables just for clarity"
   ]
  },
  {
   "cell_type": "code",
   "execution_count": null,
   "metadata": {},
   "outputs": [],
   "source": [
    "from scipy.stats import linregress #This is a linear regression function built into the Scipy library. You can call help(linregress) if you'd like to learn more.\n",
    "\n",
    "def PoissonFit(axialStrain,transverseStrain,a,b):\n",
    "    '''This is a linear fit to data between the data indices for a and b. Note, this will\n",
    "    return an error if a or b are outside the length of Strain.'''\n",
    "    \n",
    "    #Fit the modulus\n",
    "    nu,C,R,P,Err = linregress(axialStrain[a:b],transverseStrain[a:b]) #The data outputs the slope (nu), intercept (C), regression (R) value, P-value and standard error\n",
    "    #Note: Python lets you save multivariable outputs with a comma, i.e. a,b=[1,2] will give a=1 and b=2\n",
    "    \n",
    "    #Make a line for the fit data\n",
    "    Y = [0.0, transverseStrain[round(1.5*b)]]\n",
    "    X = [(y-C)/nu for y in Y] #these are points that you can plot to visualize the data being fit, inverted from y=nu*x+C, x=(y-C)/nu\n",
    "    return nu,R,X,Y"
   ]
  },
  {
   "cell_type": "markdown",
   "metadata": {},
   "source": [
    "#### Now let's see how the fit works"
   ]
  },
  {
   "cell_type": "code",
   "execution_count": null,
   "metadata": {},
   "outputs": [],
   "source": [
    "fig = plt.figure(5)\n",
    "ax = fig.gca()\n",
    "a = 60; b = 150 #Note: you will have to play with these values for a given test type\n",
    "for File in Files:\n",
    "    #Create dummy variables to make plotting easier\n",
    "    aStrain = Data[File]['Axial Strain (mm/mm)'].values\n",
    "    tStrain = Data[File]['Transverse Strain (mm/mm)'].values\n",
    "    \n",
    "    #Do the fit\n",
    "    nu,R,X,Y = PoissonFit(aStrain,tStrain,a,b)\n",
    "    \n",
    "    #Plot things\n",
    "    ax.plot(aStrain,tStrain)\n",
    "    ax.plot(aStrain[a],tStrain[a],'rd') #this is the first point we're fitting from\n",
    "    ax.plot(aStrain[b],tStrain[b],'bs') #this is the last point we're fitting from\n",
    "    ax.plot(aStrain[a:b],tStrain[a:b],'b.') #These are all the points we're fitting\n",
    "    \n",
    "    #Plot the fits\n",
    "    ax.plot(X,Y,label=r\"Poisson's Ratio Fit, $\\nu$=\"+str(round(nu,3)))\n",
    "\n",
    "#Format the plot\n",
    "ax.set_xlim(left = 0, right=0.01)\n",
    "ax.set_ylim(bottom = 0, top=0.002)\n",
    "plt.title(\"Axial vs Transverse Strain Magnified\")\n",
    "plt.xlabel('Axial Strain (mm/mm)')\n",
    "plt.ylabel('Transverse Strain (mm/mm)')\n",
    "plt.legend()\n",
    "plt.show()"
   ]
  },
  {
   "cell_type": "markdown",
   "metadata": {},
   "source": [
    "#### You can see that the Poisson's ratio fit isn't  perfect and, like the modulus fit, will change depending on exactly where we fit the data.\n",
    "#### You will need to play with these values for each data set to make sure you are fitting the correct region"
   ]
  },
  {
   "cell_type": "markdown",
   "metadata": {},
   "source": [
    "#### Once you have found good fitting points, you will need to save these results and average them for all the data"
   ]
  },
  {
   "cell_type": "code",
   "execution_count": null,
   "metadata": {},
   "outputs": [],
   "source": [
    "#a = ?\n",
    "#b = ?\n",
    "PoissonsRatios = []\n",
    "nuR2Values = []\n",
    "for File in Files:\n",
    "    #Save dummy variables to make the code cleaner below\n",
    "    aStrain = Data[File]['Axial Strain (mm/mm)'].values\n",
    "    tStrain = Data[File]['Transverse Strain (mm/mm)'].values\n",
    "    \n",
    "    #Use the two fits\n",
    "    #nu,R,X,Y = PoissonFit(aStrain,tStrain,a,b)\n",
    "    \n",
    "    #PoissonsRatios += [nu]\n",
    "    #R2Values += [R**2]"
   ]
  },
  {
   "cell_type": "markdown",
   "metadata": {},
   "source": [
    "#### Once you get all the values, you can find an average of the data"
   ]
  },
  {
   "cell_type": "code",
   "execution_count": null,
   "metadata": {},
   "outputs": [],
   "source": [
    "from numpy import mean,std \n",
    "#You can call the mean and std (standard deviation) for your Poisson's ratio values"
   ]
  },
  {
   "cell_type": "markdown",
   "metadata": {},
   "source": [
    "## Yield strength calculation"
   ]
  },
  {
   "cell_type": "markdown",
   "metadata": {},
   "source": [
    "#### We will define a function for finding the yield stress based on the 0.2% offset method\n",
    "#### Note that this is only applicable for ductile materials"
   ]
  },
  {
   "cell_type": "code",
   "execution_count": null,
   "metadata": {},
   "outputs": [],
   "source": [
    "def yieldStress(Strain,Stress,E,C,eOffset=0.002):\n",
    "    '''This function will find the yield stress based on a 0.2% offset strain method.\n",
    "    You must input the stress, strain, Youngs modulus E, fit line intercept point b, and\n",
    "    can change the strain offset value.'''\n",
    "    \n",
    "    yP = next(i for i,x in enumerate(Strain) if Stress[i] < E*(x-eOffset) + C)\n",
    "    #This code finds the first point where the Stress exceeds the strain offset line defined by y=E*(x-eOffset)+b\n",
    "    #This is the simplest way to determine a slope intercept, but it only works if the stress and the offset line intersect\n",
    "    \n",
    "    return yP #this returns the index i of the yield stress, if you want it to return the stress, use: return Stress[yP]"
   ]
  },
  {
   "cell_type": "markdown",
   "metadata": {},
   "source": [
    "#### Brief aside - here's a quick look at the function we just used"
   ]
  },
  {
   "cell_type": "code",
   "execution_count": null,
   "metadata": {},
   "outputs": [],
   "source": [
    "aList = [1,3,5,2,1,6,8,7] #this is a list of integers\n",
    "aListSquared = [x**2 for x in aList] #this is a list comprehension that squares every entry in aList, it will go through the list elements sequentially\n",
    "aListIndex = [i for i,x in enumerate(aList)] #this spits out all the indices of the elements in a list, here just 0,1,2,3...\n",
    "aListPart = [x for x in aList if x>4] #this finds all the list elements that are greater than 4\n",
    "aListNext = next(x for x in aList if x>4) #this finds the next list element that is greater than 4\n",
    "aListNextIndex = next(i for i,x in enumerate(aList) if x>4) #this finds the index of the next list value greater than 4\n",
    "print(aList)\n",
    "print(aListSquared)\n",
    "print(aListIndex)\n",
    "print(aListPart)\n",
    "print(aListNext)\n",
    "print(aListNextIndex)\n",
    "print(aList[aListNextIndex])"
   ]
  },
  {
   "cell_type": "markdown",
   "metadata": {},
   "source": [
    "#### Let's see how that yield function works by plotting the results!"
   ]
  },
  {
   "cell_type": "code",
   "execution_count": null,
   "metadata": {},
   "outputs": [],
   "source": [
    "fig = plt.figure()\n",
    "ax = fig.gca()\n",
    "a = 10; b = 120 #Note: you will have to play with these values for a given test type\n",
    "eOff = 0.002\n",
    "for File in Files:\n",
    "    strain = Data[File]['Strain (mm/mm)'].values\n",
    "    stress = Data[File]['Stress (MPa)'].values\n",
    "    \n",
    "    #Find modulus and yield\n",
    "    E,C,R,X,Y = modulusFit(strain,stress,a,b)\n",
    "    iYield = yieldStress(strain,stress,E,C,eOffset=eOff)\n",
    "    xOffset = [x+eOff for x in X]\n",
    "    \n",
    "    #Plot the data\n",
    "    ax.plot(strain,stress)\n",
    "    ax.plot(strain[a],stress[a],'bd') #This is the first point we're fitting from\n",
    "    ax.plot(strain[b],stress[b],'bs') #this is the last point we're fitting from\n",
    "    ax.plot(strain[a:b],stress[a:b],'b.') #These are all the points we're fitting\n",
    "    ax.plot(strain[iYield],stress[iYield],'o', label=r'Yield, $\\sigma_y$='+str(round(stress[iYield],1))+' MPa')\n",
    "    \n",
    "    #Plot the fits\n",
    "    ax.plot(X,Y,label='Modulus, E='+str(round(E1*1e-3,1))+' GPa')\n",
    "    ax.plot(xOffset,Y,'--')\n",
    "\n",
    "ax.set_xlim(left = 0, right=0.01)\n",
    "ax.set_ylim(bottom = 0, top=400)\n",
    "plt.title(\"Yield Stress Calculation\")\n",
    "plt.ylabel('Stress (MPa)')\n",
    "plt.xlabel('Strain (mm/mm)')\n",
    "plt.legend()\n",
    "plt.show()"
   ]
  },
  {
   "cell_type": "markdown",
   "metadata": {},
   "source": [
    "#### Once you have found good fitting points, you will need to save these results and average them for all the data"
   ]
  },
  {
   "cell_type": "code",
   "execution_count": null,
   "metadata": {},
   "outputs": [],
   "source": [
    "#a = ?\n",
    "#b = ?\n",
    "yieldStrengths = []\n",
    "yR2Values = []\n",
    "for File in Files:\n",
    "    #Save dummy variables to make the code cleaner below\n",
    "    strain = Data[File]['Strain (mm/mm)'].values\n",
    "    stress = Data[File]['Stress (MPa)'].values\n",
    "    \n",
    "    #Find modulus and yield\n",
    "#     E,C,R,X,Y = modulusFit(strain,stress,a,b)\n",
    "#     iYield = yieldStress(strain,stress,E,C,eOffset=eOff)\n",
    "    \n",
    "    #yieldStrengths += [stress[iYield]]\n",
    "    #yR2Values += [R**2]"
   ]
  },
  {
   "cell_type": "markdown",
   "metadata": {},
   "source": [
    "#### Once you get all the values, you can find an average of the data"
   ]
  },
  {
   "cell_type": "code",
   "execution_count": null,
   "metadata": {},
   "outputs": [],
   "source": [
    "from numpy import mean,std \n",
    "#You can call the mean and std (standard deviation) for your yield strength values"
   ]
  },
  {
   "cell_type": "markdown",
   "metadata": {},
   "source": [
    "## Calculate Some Ultimate Values"
   ]
  },
  {
   "cell_type": "markdown",
   "metadata": {},
   "source": [
    "#### Ultimate Stress and Strain Calculation"
   ]
  },
  {
   "cell_type": "code",
   "execution_count": null,
   "metadata": {},
   "outputs": [],
   "source": [
    "for File in Files:\n",
    "    ultimateStress = Data[File]['Stress (MPa)'].max()\n",
    "    ultimateStrain = [] #calculate the ultimate strain here, i.e. the strain at the ultimate stress\n",
    "    print(\"Ultimate Stress =\", round(ultimateStress,1), \"MPa for\",File) \n",
    "#     print(\"Ultimate Strain =\", ultimateStrain, \"for\",File) "
   ]
  },
  {
   "cell_type": "markdown",
   "metadata": {},
   "source": [
    "#### Fracture Stress and Strain Calculation"
   ]
  },
  {
   "cell_type": "code",
   "execution_count": null,
   "metadata": {},
   "outputs": [],
   "source": [
    "for File in Files:\n",
    "    fractureStress = [] #calculate the fracture stress here, i.e. the stress where the sample fractures\n",
    "    fractureStrain = [] #calculate the fracture strain here, \n",
    "    #hint look at the max function for pandas, or use data.values and take the [-1] which is the last value\n",
    "#     print(\"Fracture Stress =\", round(fractureStress,1), \"MPa for\",File) \n",
    "#     print(\"Fracture Strain =\", fractureStrain, \"for\",File)"
   ]
  },
  {
   "cell_type": "markdown",
   "metadata": {},
   "source": [
    "### Percent Elongation Calculation"
   ]
  },
  {
   "cell_type": "code",
   "execution_count": null,
   "metadata": {},
   "outputs": [],
   "source": [
    "#Input the sample parameters\n",
    "Lo = 25.4 #initial sample length, change for each specimen\n",
    "\n",
    "for File in Files:\n",
    "    deltaL = Data[File]['Extension (mm)'].max()\n",
    "    L = Lo+deltaL\n",
    "    #percentElongation = #calculate the percent elongation here\n",
    "#     print(percentElongation)\n",
    "    "
   ]
  },
  {
   "cell_type": "markdown",
   "metadata": {},
   "source": [
    "## Calculate the Disspiated Energy"
   ]
  },
  {
   "cell_type": "markdown",
   "metadata": {},
   "source": [
    "#### Tensile toughness"
   ]
  },
  {
   "cell_type": "code",
   "execution_count": null,
   "metadata": {},
   "outputs": [],
   "source": [
    "#There are many integration functions built into python libraries, here we will use numpy trapozoidal rule\n",
    "from numpy import trapz #this is the trapezoidal rule integration function\n",
    "\n",
    "#We want to integrate over axial stress and strain to find the area under the curve\n",
    "for File in Files:\n",
    "    #Choose your data\n",
    "    yData = Data[File]['Stress (MPa)']\n",
    "    xData = Data[File]['Axial Strain (mm/mm)']\n",
    "    \n",
    "    #Calculate the area\n",
    "    tensileToughness = trapz(yData,x=xData) #if we don't include xData, it will take the spacing to be 1\n",
    "    \n",
    "    #Print the result\n",
    "    print('Tensile toughness =',round(tensileToughness,2),'MPa') #We're rounding to the nearest 0.01"
   ]
  },
  {
   "cell_type": "markdown",
   "metadata": {},
   "source": [
    "#### Modulus of resilience"
   ]
  },
  {
   "cell_type": "code",
   "execution_count": null,
   "metadata": {},
   "outputs": [],
   "source": [
    "#There are many integration functions built into python libraries, here we will use numpy trapozoidal rule\n",
    "from numpy import trapz #this is the trapezoidal rule integration function\n",
    "\n",
    "#We want to integrate over axial stress and strain to find the area under the curve\n",
    "for File in Files:\n",
    "    #### Here you will need to use the yield strength point that was calculated above (or recalculate it here)\n",
    "    #### to find the modulus of resilience of the material\n",
    "    #### You can copy the process in the 'tensile toughness' section above, or use a different method\n",
    "#     print('Modulus of Resilience = ', round(modulusOfResilience,2)),'MPa') #We're rounding to the nearest 0.01\n",
    "    "
   ]
  }
 ],
 "metadata": {
  "kernelspec": {
   "display_name": "Python 3",
   "language": "python",
   "name": "python3"
  },
  "language_info": {
   "codemirror_mode": {
    "name": "ipython",
    "version": 3
   },
   "file_extension": ".py",
   "mimetype": "text/x-python",
   "name": "python",
   "nbconvert_exporter": "python",
   "pygments_lexer": "ipython3",
   "version": "3.7.4"
  }
 },
 "nbformat": 4,
 "nbformat_minor": 4
}
