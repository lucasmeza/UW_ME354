{
 "cells": [
  {
   "cell_type": "markdown",
   "metadata": {},
   "source": [
    "# Fracture Data Analysis Code   ~ (* *) ~"
   ]
  },
  {
   "cell_type": "markdown",
   "metadata": {},
   "source": [
    "#### For this lab, your output data will consist of load vs displacement for all the samples tested. To calculate the fracture toughness of a given material, you will:\n",
    "- Take the load displacement data\n",
    "- Calculate the initial slope of the data as you did in the tension lab\n",
    "- Construct another line with a slope equal to 95% of the initial slope\n",
    "- Find the intersection of the constructed line with the original load displacement curve and record that value\n",
    "- You will insert this value into equation (1) in the manual and obtain the fracture toughness of that sample\n",
    "\n",
    "All the Best!"
   ]
  },
  {
   "cell_type": "markdown",
   "metadata": {},
   "source": [
    "## Define and Import Sample Data"
   ]
  },
  {
   "cell_type": "code",
   "execution_count": null,
   "metadata": {},
   "outputs": [],
   "source": [
    "import pandas as pd\n",
    "\n",
    "#Define the sample name\n",
    "fileName = 'Fracture Data.xlsx' #this is your data file\n",
    "\n",
    "##INPUT ALL DIMENSIONS HERE IN METERS\n",
    "W = 0.025   #Sample Width (m)\n",
    "B = 0.009  #Sample thickness (m)\n",
    "a = 0.0059  #Crack length (m)\n",
    "sy = 40e6    #Yield Strength (Pa)\n",
    "\n",
    "#Read the file into Data\n",
    "allData = pd.read_excel(fileName, skiprows=3, sheet_name=None) #This reads all the excel sheets in\n",
    "samples = list(allData.keys()) #this returns all the sheet names\n",
    "print(samples)\n",
    "\n",
    "#Choose the data you want to analyze\n",
    "#YOU WILL NEED TO CHANGE THE samples[#] TO ACCESS DIFFERENT SHEETS\n",
    "Data = allData[samples[9]] #This accesses individual sheets\n",
    "\n",
    "#Save Variables to make code cleaner\n",
    "Disp = Data['COD Gauge (mm)'].values\n",
    "Load = Data['Load (N)'].values"
   ]
  },
  {
   "cell_type": "markdown",
   "metadata": {},
   "source": [
    "## Define Some Useful Functions"
   ]
  },
  {
   "cell_type": "code",
   "execution_count": null,
   "metadata": {},
   "outputs": [],
   "source": [
    "import numpy as np\n",
    "from scipy.stats import linregress #Linear regression function built into the Scipy library\n",
    "\n",
    "def slopeFit(Displacement,Load,a,b):\n",
    "    '''This is a linear fit to data between the data indices for a and b. \n",
    "    Note, this will return an error if a or b are outside the length of \n",
    "    the load and displacement.'''\n",
    "    \n",
    "    #Fit the modulus\n",
    "    #Linregress outputs the slope, intercept, regression, P-value and standard error\n",
    "    slope,C,R,P,Err = linregress(Displacement[a:b],Load[a:b]) \n",
    "    #Note: Python lets you save multivariable outputs with a comma, i.e. a,b=[1,2] will give a=1 and b=2\n",
    "    \n",
    "    #Make a line for the fit data\n",
    "    Y = [0.0, max(Load)] #this is a list of length 2 for plotting the fit data later\n",
    "    X = [(y-C)/slope for y in Y] #these are points that you can plot to visualize later\n",
    "    return slope,C,R,X,Y\n",
    "\n",
    "def F(al):\n",
    "    '''Returns the geometric stress concentration factor F'''\n",
    "    return (2+al)*(0.886+4.64*al-13.32*al**2+14.72*al**3-5.6*al**4)/(1-al)**1.5 \n",
    "\n",
    "def conditionalToughness(P,W,B,a):\n",
    "    '''Returns a conditional fracture toughness'''\n",
    "    return P*F(a/W)/B/W**0.5\n",
    "\n",
    "def lineIntercepts(A,B):\n",
    "    '''Returns the indexes of the points right before two curves A and B intercept'''\n",
    "    intercept = np.argwhere(np.diff(np.sign(A-B))).flatten()\n",
    "    if len(intercept) == 0:\n",
    "        return [len(A)]\n",
    "    else:\n",
    "        return intercept"
   ]
  },
  {
   "cell_type": "markdown",
   "metadata": {},
   "source": [
    "## Define a Data Fit and Plot"
   ]
  },
  {
   "cell_type": "code",
   "execution_count": null,
   "metadata": {},
   "outputs": [],
   "source": [
    "import matplotlib.pyplot as plt\n",
    "\n",
    "fig = plt.figure()\n",
    "ax = fig.gca()\n",
    "\n",
    "#YOU WILL NEED TO MODIFY THE FIT POINTS\n",
    "a1 = 20; b1 = 100\n",
    "slope,C,R,X,Y = slopeFit(Disp, Load, a1, b1)\n",
    "\n",
    "#Plot the data\n",
    "ax.plot(Disp, Load,'.-')\n",
    "ax.plot(Disp[a1],Load[a1],'bd')\n",
    "ax.plot(Disp[b1],Load[b1],'bs')\n",
    "\n",
    "#Plot the fit\n",
    "ax.plot(X,Y,label='Fit, slope='+str(round(slope,1))+' N/mm')\n",
    "\n",
    "plt.title(\"Fracture Data\")\n",
    "ax.set_ylabel('Load (N)')\n",
    "ax.set_xlabel('Displacement (mm)')\n",
    "plt.legend()\n",
    "plt.show()"
   ]
  },
  {
   "cell_type": "markdown",
   "metadata": {},
   "source": [
    "## Determine PQ and Pmax"
   ]
  },
  {
   "cell_type": "code",
   "execution_count": null,
   "metadata": {},
   "outputs": [],
   "source": [
    "#Find Peak Load\n",
    "iPmax = np.argmax(Load)\n",
    "Pmax = Load[iPmax]\n",
    "\n",
    "#Line with 95% slope\n",
    "Y95 = Load[:iPmax]\n",
    "X95 = [(y-C)/slope/0.95 + 0.05*C/slope for y in Y95]\n",
    "\n",
    "#Find intersection point and load\n",
    "iPQ = lineIntercepts(Disp[:iPmax],X95)[-1]\n",
    "PQ = Load[iPQ]\n",
    "\n",
    "#Plot Data\n",
    "fig = plt.figure()\n",
    "ax = fig.gca()\n",
    "ax.plot(Disp, Load)\n",
    "\n",
    "#Plot fit lines\n",
    "ax.plot(X,Y,'k--')\n",
    "ax.plot(X95,Y95,'b--')\n",
    "ax.plot(Disp[iPQ],PQ,'ro',label='PQ')\n",
    "ax.plot(Disp[iPmax],Pmax,'bo',label='Pmax')\n",
    "\n",
    "#Add Labels\n",
    "ax.set_title(\"Intercept Fit\")\n",
    "ax.set_ylabel('Load (N)')\n",
    "ax.set_xlabel('Displacement (mm)')\n",
    "plt.legend();\n",
    "plt.show()"
   ]
  },
  {
   "cell_type": "markdown",
   "metadata": {},
   "source": [
    "## Determine if KQ is a valid KIC"
   ]
  },
  {
   "cell_type": "code",
   "execution_count": null,
   "metadata": {},
   "outputs": [],
   "source": [
    "#Check Type III fracture condition\n",
    "if iPQ > iPmax:\n",
    "    PQ = Pmax\n",
    "\n",
    "#Calculate the conditional toughness\n",
    "KQ = conditionalToughness(PQ,W,B,a)\n",
    "\n",
    "#Check if the conditional toughness is a true fracture toughness\n",
    "#YOU WILL NEED TO DEFINE CONDITIONS 1 AND 2\n",
    "if Condition1 and Condition2:\n",
    "    print('KIc =',round(KQ*1e-6,3),'MPa m^0.5 is valid.')\n",
    "elif Condition 1:\n",
    "    print('KQ =',round(KQ*1e-6,3),'MPa m^0.5 is not valid by condition 2.')\n",
    "elif Condition 2:\n",
    "    print('KQ =',round(KQ*1e-6,3),'MPa m^0.5 is not valid by condition 1.')\n",
    "else:\n",
    "    print('KQ =',round(KQ*1e-6,3),'MPa m^0.5 and fails both conditions.')"
   ]
  },
  {
   "cell_type": "code",
   "execution_count": null,
   "metadata": {},
   "outputs": [],
   "source": []
  }
 ],
 "metadata": {
  "kernelspec": {
   "display_name": "Python 3 (ipykernel)",
   "language": "python",
   "name": "python3"
  },
  "language_info": {
   "codemirror_mode": {
    "name": "ipython",
    "version": 3
   },
   "file_extension": ".py",
   "mimetype": "text/x-python",
   "name": "python",
   "nbconvert_exporter": "python",
   "pygments_lexer": "ipython3",
   "version": "3.10.13"
  }
 },
 "nbformat": 4,
 "nbformat_minor": 4
}
