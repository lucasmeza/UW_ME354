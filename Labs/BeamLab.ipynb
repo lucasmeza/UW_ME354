{
 "cells": [
  {
   "cell_type": "markdown",
   "metadata": {},
   "source": [
    "# Beam Lab Code ＼(^o^)／"
   ]
  },
  {
   "cell_type": "markdown",
   "metadata": {},
   "source": [
    "## Beam dimensions and material properties"
   ]
  },
  {
   "cell_type": "code",
   "execution_count": null,
   "metadata": {},
   "outputs": [],
   "source": [
    "# 3-points beam bending\n",
    "L = 0.700\n",
    "W = 0.040\n",
    "H = 0.025\n",
    "I = W*H**3/12\n",
    "\n",
    "# Material Properties\n",
    "E = 69000e6  # Elastic Modulus\n",
    "nu = 0.33     # Poisson's Ratio\n",
    "Y = 275e6    # Yield Strength"
   ]
  },
  {
   "cell_type": "markdown",
   "metadata": {},
   "source": [
    "\n",
    "## Gauge positions and orientations"
   ]
  },
  {
   "cell_type": "code",
   "execution_count": null,
   "metadata": {},
   "outputs": [],
   "source": [
    "from math import pi\n",
    "\n",
    "#Gauge 1\n",
    "G1x = 0.350\n",
    "G1z = -H/2\n",
    "th1a = 0\n",
    "th1b = pi/4\n",
    "th1c = pi/2\n",
    "\n",
    "#Gauge 2\n",
    "G2x = 0.375\n",
    "G2z = -H/2 + 0.0125\n",
    "th2a = 0\n",
    "th2b = pi/4\n",
    "th2c = pi/2\n",
    "\n",
    "#Gauge 3\n",
    "G3x = 0.350\n",
    "G3z = H/2\n",
    "th3a = 0\n",
    "th3b = pi/4\n",
    "th3c = pi/2\n",
    "\n",
    "#Gauge 4\n",
    "G4x = 0.450\n",
    "G4z = -H/2\n",
    "th4a = -pi/4\n",
    "th4b = 0\n",
    "th4c = pi/4\n",
    "\n",
    "#3-Point Load Point\n",
    "XLoad = 0.350\n",
    "\n",
    "#4-Point Load Points\n",
    "a = 0.200\n",
    "b = 0.500\n",
    "c = 0.150"
   ]
  },
  {
   "cell_type": "markdown",
   "metadata": {},
   "source": [
    "## Calculate the max deflection"
   ]
  },
  {
   "cell_type": "code",
   "execution_count": null,
   "metadata": {},
   "outputs": [],
   "source": [
    "# 3-point beam\n",
    "def beam3Deflection(P,E,I,L):\n",
    "    return P*L**3/(48*E*I)\n",
    "\n",
    "# 4-point beam\n",
    "def beam4Deflection(P,E,I,L,a):\n",
    "    return P*a*(3*L**2-4*a**2)/(48*E*I)\n",
    "\n",
    "#Example\n",
    "#Note: this uses properties and dimensions from cells above\n",
    "load = 100\n",
    "deflect3 = beam3Deflection(load,E,I,L)\n",
    "deflect4 = beam4Deflection(load,E,I,L,a)\n",
    "#Print values\n",
    "print(deflect3)\n",
    "print(deflect4)\n",
    "#To print out in mm rounded to the nearest 0.01\n",
    "print(round(deflect3*1e3,2))\n",
    "print(round(deflect4*1e3,2))"
   ]
  },
  {
   "cell_type": "markdown",
   "metadata": {},
   "source": [
    "## Calculate the theoretical strain value"
   ]
  },
  {
   "cell_type": "code",
   "execution_count": null,
   "metadata": {},
   "outputs": [],
   "source": [
    "def beam3Strain(P,E,nu,I,L,H,x,z):\n",
    "    #Calculate shear and moment\n",
    "    if x < L/2:\n",
    "        Q = P/2\n",
    "        M = P*x/2\n",
    "    else:\n",
    "        Q = -P/2\n",
    "        M = P*(L-x)/2\n",
    "\n",
    "    #Calculate stress\n",
    "    sigmaX = M*z/I\n",
    "    tau = Q/2/I*((H/2)**2 - z**2)\n",
    "\n",
    "    #Calculate strain\n",
    "    epsilonX = sigmaX/E\n",
    "    epsilonY = -sigmaX*nu/E\n",
    "    gamma = tau*2*(1+nu)/E #tau/G - G=E/2/(1+nu)\n",
    "\n",
    "    return [epsilonX, epsilonY, gamma]\n",
    "\n",
    "def beam4Strain(P,E,nu,I,L,H,a,x,z):\n",
    "    #Calculate shear and moment\n",
    "    if x < a:\n",
    "        Q = P/2\n",
    "        M = P*x/2\n",
    "    elif x < L-a:\n",
    "        Q = 0\n",
    "        M = P*a/2\n",
    "    else:\n",
    "        Q = -P/2\n",
    "        M = P*(L-x)/2\n",
    "\n",
    "    #Calculate stress\n",
    "    sigmaX = M*z/I\n",
    "    tau = Q/2/I*((H/2)**2 - z**2)\n",
    "\n",
    "    #Calculate strain\n",
    "    epsilonX = sigmaX/E\n",
    "    epsilonY = -sigmaX*nu/E\n",
    "    gamma = tau*2*(1+nu)/E #tau/G - G=E/2/(1+nu)\n",
    "\n",
    "    return [epsilonX, epsilonY, gamma]\n",
    "\n",
    "#Example\n",
    "#Note: this uses properties and dimensions from cells above\n",
    "load = 100\n",
    "xPos = 0.350\n",
    "zPos = -H/4\n",
    "strain3 = beam3Strain(load,E,nu,I,L,H,xPos,zPos)\n",
    "strain4 = beam4Strain(load,E,nu,I,L,H,a,xPos,zPos)\n",
    "\n",
    "#Print values\n",
    "print(strain3)\n",
    "print(strain4)\n",
    "#To print out microstrain rounded to the nearest 0.1\n",
    "print([round(x*1e6,1) for x in strain3])\n",
    "print([round(x*1e6,1) for x in strain4])"
   ]
  },
  {
   "cell_type": "markdown",
   "metadata": {},
   "source": [
    "## Rotate the strain gauge reading"
   ]
  },
  {
   "cell_type": "code",
   "execution_count": null,
   "metadata": {},
   "outputs": [],
   "source": [
    "from math import cos, sin #note: angles should be in radians\n",
    "\n",
    "def rotateStrain(ex, ey, exy, th):\n",
    "    exp = (ex+ey)/2 + (ex-ey)/2*cos(2*th) + exy*sin(2*th)\n",
    "    eyp = (ex+ey)/2 - (ex-ey)/2*cos(2*th) - exy*sin(2*th)\n",
    "    exyp = exy*cos(2*th) - (ex-ey)/2*sin(2*th)\n",
    "    return [exp, eyp, exyp]\n",
    "\n",
    "#Example\n",
    "#Note: this uses properties and dimensions from cells above\n",
    "thG = pi/4\n",
    "eGx, eGy, eGxy = beam3Strain(load,E,nu,I,L,H,xPos,zPos)\n",
    "strainG = rotateStrain(eGx, eGy, eGxy, thG)\n",
    "\n",
    "#Print values\n",
    "print(strainG)\n",
    "#To print out microstrain rounded to the nearest 0.1\n",
    "print([round(x*1e6,1) for x in strainG])"
   ]
  },
  {
   "cell_type": "markdown",
   "metadata": {},
   "source": [
    "## Plot the deflection and strain gauge reading"
   ]
  },
  {
   "cell_type": "code",
   "execution_count": null,
   "metadata": {},
   "outputs": [],
   "source": [
    "import matplotlib.pyplot as plt\n",
    "\n",
    "#Experimental displacement and strains\n",
    "Loads = [0, 200, 600]\n",
    "eDeflect = [0, 0.9, 2.6]\n",
    "eGauge1a = [0, -235, -700]\n",
    "\n",
    "#Theoretical displacement and strains\n",
    "thDeflect = []\n",
    "thGauge1a = []\n",
    "for load in Loads:\n",
    "    thDeflect += [beam3Deflection(2*load,E,I,L)*1e3]\n",
    "    eGx, eGy, eGxy = beam3Strain(2*load,E,nu,I,L,H,G1x,G1z)\n",
    "    print(eGx, eGy, eGxy)\n",
    "    thGauge1a += [rotateStrain(eGx, eGy, eGxy, th1a)[0]*1e6]\n",
    "\n",
    "#Plot the results\n",
    "fig,axs = plt.subplots(1,2)\n",
    "fig.suptitle(\"3-Point Beam\", fontsize=16)\n",
    "\n",
    "#Plot deflection\n",
    "axs[0].plot(Loads, eDeflect, '.-', label='Experiment')\n",
    "axs[0].plot(Loads, thDeflect, '.-', label='Theory')\n",
    "axs[0].set_xlabel('Load(N)')\n",
    "axs[0].set_ylabel('Deflection(mm)')\n",
    "axs[0].title.set_text('Deflection')\n",
    "axs[0].legend()\n",
    "\n",
    "#Plot deflection\n",
    "axs[1].plot(Loads, eGauge1a, '.-', label='Experiment')\n",
    "axs[1].plot(Loads, thGauge1a, '.-', label='Theory')\n",
    "axs[1].set_xlabel('Load(N)')\n",
    "axs[1].set_ylabel('Strain (microstrain)')\n",
    "axs[1].title.set_text('Strain Gauge 1a')\n",
    "axs[1].legend()\n",
    "\n",
    "plt.tight_layout()"
   ]
  }
 ],
 "metadata": {
  "kernelspec": {
   "display_name": "Python 3 (ipykernel)",
   "language": "python",
   "name": "python3"
  },
  "language_info": {
   "codemirror_mode": {
    "name": "ipython",
    "version": 3
   },
   "file_extension": ".py",
   "mimetype": "text/x-python",
   "name": "python",
   "nbconvert_exporter": "python",
   "pygments_lexer": "ipython3",
   "version": "3.10.13"
  }
 },
 "nbformat": 4,
 "nbformat_minor": 4
}
